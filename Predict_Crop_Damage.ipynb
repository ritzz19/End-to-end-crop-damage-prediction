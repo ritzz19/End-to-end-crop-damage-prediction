{
  "nbformat": 4,
  "nbformat_minor": 0,
  "metadata": {
    "kernelspec": {
      "display_name": "Python 3",
      "language": "python",
      "name": "python3"
    },
    "language_info": {
      "codemirror_mode": {
        "name": "ipython",
        "version": 3
      },
      "file_extension": ".py",
      "mimetype": "text/x-python",
      "name": "python",
      "nbconvert_exporter": "python",
      "pygments_lexer": "ipython3",
      "version": "3.7.6"
    },
    "colab": {
      "name": "Predict_Crop_Damage.ipynb",
      "provenance": [],
      "collapsed_sections": [
        "C0ecBueVKTgj",
        "qQXsZKkwKTg7",
        "B02j45wPKThI",
        "HLiJqAt4KThq"
      ],
      "include_colab_link": true
    }
  },
  "cells": [
    {
      "cell_type": "markdown",
      "metadata": {
        "id": "view-in-github",
        "colab_type": "text"
      },
      "source": [
        "<a href=\"https://colab.research.google.com/github/ritzz19/End-to-end-crop-damage-prediction/blob/main/Predict_Crop_Damage.ipynb\" target=\"_parent\"><img src=\"https://colab.research.google.com/assets/colab-badge.svg\" alt=\"Open In Colab\"/></a>"
      ]
    },
    {
      "cell_type": "code",
      "metadata": {
        "id": "T0b82oyMKTf4",
        "outputId": "a9df1802-e6cf-4de7-fe2f-a229e23477d1",
        "colab": {
          "base_uri": "https://localhost:8080/",
          "height": 70
        }
      },
      "source": [
        "import pandas as pd\n",
        "import numpy as np\n",
        "import matplotlib.pyplot as plt\n",
        "import seaborn as sns\n",
        "import psycopg2\n",
        "import sqlalchemy"
      ],
      "execution_count": 7,
      "outputs": [
        {
          "output_type": "stream",
          "text": [
            "/usr/local/lib/python3.6/dist-packages/psycopg2/__init__.py:144: UserWarning: The psycopg2 wheel package will be renamed from release 2.8; in order to keep installing from binary please use \"pip install psycopg2-binary\" instead. For details see: <http://initd.org/psycopg/docs/install.html#binary-install-from-pypi>.\n",
            "  \"\"\")\n"
          ],
          "name": "stderr"
        }
      ]
    },
    {
      "cell_type": "code",
      "metadata": {
        "id": "M7Q69ysxKTf8"
      },
      "source": [
        "from sqlalchemy import create_engine\n",
        "address ='crop-database.crsrmxqqzioy.us-east-2.rds.amazonaws.com'\n",
        "port='5432'\n",
        "username='swati_admin'\n",
        "password='******' #Password has been protected\n",
        "dbname='crop_damage'\n",
        "\n",
        "postgres_str=('postgresql://{username}:{password}@{ipaddress}:{port}/{dbname}'\n",
        "             .format(username=username,\n",
        "                    password=password,\n",
        "                    ipaddress=address,\n",
        "                    port=port,\n",
        "                    dbname=dbname))\n",
        "cnx=create_engine(postgres_str)"
      ],
      "execution_count": 8,
      "outputs": []
    },
    {
      "cell_type": "code",
      "metadata": {
        "id": "L5IiD4g2KTf-"
      },
      "source": [
        "df=pd.read_sql('''SELECT * FROM public.crop_damage_prediction;''',cnx)"
      ],
      "execution_count": 9,
      "outputs": []
    },
    {
      "cell_type": "code",
      "metadata": {
        "id": "CZ0_ABD2KTgA",
        "outputId": "82f8533c-56b6-4941-f130-323ae479d8d6",
        "colab": {
          "base_uri": "https://localhost:8080/",
          "height": 195
        }
      },
      "source": [
        "df.head()"
      ],
      "execution_count": 10,
      "outputs": [
        {
          "output_type": "execute_result",
          "data": {
            "text/html": [
              "<div>\n",
              "<style scoped>\n",
              "    .dataframe tbody tr th:only-of-type {\n",
              "        vertical-align: middle;\n",
              "    }\n",
              "\n",
              "    .dataframe tbody tr th {\n",
              "        vertical-align: top;\n",
              "    }\n",
              "\n",
              "    .dataframe thead th {\n",
              "        text-align: right;\n",
              "    }\n",
              "</style>\n",
              "<table border=\"1\" class=\"dataframe\">\n",
              "  <thead>\n",
              "    <tr style=\"text-align: right;\">\n",
              "      <th></th>\n",
              "      <th>id</th>\n",
              "      <th>estimated_insects_count</th>\n",
              "      <th>crop_type</th>\n",
              "      <th>soil_type</th>\n",
              "      <th>pesticide_use_category</th>\n",
              "      <th>number_doses_week</th>\n",
              "      <th>number_weeks_used</th>\n",
              "      <th>number_weeks_quit</th>\n",
              "      <th>season</th>\n",
              "      <th>crop_damage</th>\n",
              "    </tr>\n",
              "  </thead>\n",
              "  <tbody>\n",
              "    <tr>\n",
              "      <th>0</th>\n",
              "      <td>F00000001</td>\n",
              "      <td>188</td>\n",
              "      <td>1</td>\n",
              "      <td>0</td>\n",
              "      <td>1</td>\n",
              "      <td>0</td>\n",
              "      <td>0.0</td>\n",
              "      <td>0</td>\n",
              "      <td>1</td>\n",
              "      <td>0</td>\n",
              "    </tr>\n",
              "    <tr>\n",
              "      <th>1</th>\n",
              "      <td>F00000003</td>\n",
              "      <td>209</td>\n",
              "      <td>1</td>\n",
              "      <td>0</td>\n",
              "      <td>1</td>\n",
              "      <td>0</td>\n",
              "      <td>0.0</td>\n",
              "      <td>0</td>\n",
              "      <td>2</td>\n",
              "      <td>1</td>\n",
              "    </tr>\n",
              "    <tr>\n",
              "      <th>2</th>\n",
              "      <td>F00000004</td>\n",
              "      <td>257</td>\n",
              "      <td>1</td>\n",
              "      <td>0</td>\n",
              "      <td>1</td>\n",
              "      <td>0</td>\n",
              "      <td>0.0</td>\n",
              "      <td>0</td>\n",
              "      <td>2</td>\n",
              "      <td>1</td>\n",
              "    </tr>\n",
              "    <tr>\n",
              "      <th>3</th>\n",
              "      <td>F00000005</td>\n",
              "      <td>257</td>\n",
              "      <td>1</td>\n",
              "      <td>1</td>\n",
              "      <td>1</td>\n",
              "      <td>0</td>\n",
              "      <td>0.0</td>\n",
              "      <td>0</td>\n",
              "      <td>2</td>\n",
              "      <td>1</td>\n",
              "    </tr>\n",
              "    <tr>\n",
              "      <th>4</th>\n",
              "      <td>F00000006</td>\n",
              "      <td>342</td>\n",
              "      <td>1</td>\n",
              "      <td>0</td>\n",
              "      <td>1</td>\n",
              "      <td>0</td>\n",
              "      <td>0.0</td>\n",
              "      <td>0</td>\n",
              "      <td>2</td>\n",
              "      <td>1</td>\n",
              "    </tr>\n",
              "  </tbody>\n",
              "</table>\n",
              "</div>"
            ],
            "text/plain": [
              "          id  estimated_insects_count  ...  season  crop_damage\n",
              "0  F00000001                      188  ...       1            0\n",
              "1  F00000003                      209  ...       2            1\n",
              "2  F00000004                      257  ...       2            1\n",
              "3  F00000005                      257  ...       2            1\n",
              "4  F00000006                      342  ...       2            1\n",
              "\n",
              "[5 rows x 10 columns]"
            ]
          },
          "metadata": {
            "tags": []
          },
          "execution_count": 10
        }
      ]
    },
    {
      "cell_type": "code",
      "metadata": {
        "id": "fr4pfGVCKTgC",
        "outputId": "f2159021-566e-4d19-b041-865660de8cd5",
        "colab": {
          "base_uri": "https://localhost:8080/",
          "height": 34
        }
      },
      "source": [
        "print(df.shape)"
      ],
      "execution_count": 41,
      "outputs": [
        {
          "output_type": "stream",
          "text": [
            "(88858, 11)\n"
          ],
          "name": "stdout"
        }
      ]
    },
    {
      "cell_type": "code",
      "metadata": {
        "id": "WjXK7tQBKTgE",
        "outputId": "3f6b64bd-0330-40da-cd8f-77be379cb9e6",
        "colab": {
          "base_uri": "https://localhost:8080/",
          "height": 218
        }
      },
      "source": [
        "df.dtypes"
      ],
      "execution_count": 42,
      "outputs": [
        {
          "output_type": "execute_result",
          "data": {
            "text/plain": [
              "estimated_insects_count      int64\n",
              "crop_type                    int64\n",
              "soil_type                    int64\n",
              "pesticide_use_category       int64\n",
              "number_doses_week            int64\n",
              "number_weeks_used          float64\n",
              "number_weeks_quit            int64\n",
              "season                       int64\n",
              "crop_damage                  int64\n",
              "Avg_Dose_Insect            float64\n",
              "TotalDoses                 float64\n",
              "dtype: object"
            ]
          },
          "metadata": {
            "tags": []
          },
          "execution_count": 42
        }
      ]
    },
    {
      "cell_type": "code",
      "metadata": {
        "id": "Z5bqpygfKTgH"
      },
      "source": [
        "df_original=df"
      ],
      "execution_count": 43,
      "outputs": []
    },
    {
      "cell_type": "code",
      "metadata": {
        "id": "pInawxA3KTgJ"
      },
      "source": [
        "ID_COL, TARGET_COL = 'id', 'crop_damage'"
      ],
      "execution_count": 44,
      "outputs": []
    },
    {
      "cell_type": "code",
      "metadata": {
        "id": "PjMAJeT0KTgL",
        "outputId": "16f8e86e-4622-4347-ddc2-9a0ce0ac1494",
        "colab": {
          "base_uri": "https://localhost:8080/",
          "height": 319
        }
      },
      "source": [
        "df.info()"
      ],
      "execution_count": 45,
      "outputs": [
        {
          "output_type": "stream",
          "text": [
            "<class 'pandas.core.frame.DataFrame'>\n",
            "RangeIndex: 88858 entries, 0 to 88857\n",
            "Data columns (total 11 columns):\n",
            " #   Column                   Non-Null Count  Dtype  \n",
            "---  ------                   --------------  -----  \n",
            " 0   estimated_insects_count  88858 non-null  int64  \n",
            " 1   crop_type                88858 non-null  int64  \n",
            " 2   soil_type                88858 non-null  int64  \n",
            " 3   pesticide_use_category   88858 non-null  int64  \n",
            " 4   number_doses_week        88858 non-null  int64  \n",
            " 5   number_weeks_used        88858 non-null  float64\n",
            " 6   number_weeks_quit        88858 non-null  int64  \n",
            " 7   season                   88858 non-null  int64  \n",
            " 8   crop_damage              88858 non-null  int64  \n",
            " 9   Avg_Dose_Insect          88858 non-null  float64\n",
            " 10  TotalDoses               88858 non-null  float64\n",
            "dtypes: float64(3), int64(8)\n",
            "memory usage: 7.5 MB\n"
          ],
          "name": "stdout"
        }
      ]
    },
    {
      "cell_type": "code",
      "metadata": {
        "id": "GqaO3JVoKTgO",
        "outputId": "cbc764c0-7e3f-4b11-af69-258e32fa251d",
        "colab": {
          "base_uri": "https://localhost:8080/",
          "height": 304
        }
      },
      "source": [
        "df.describe()"
      ],
      "execution_count": 46,
      "outputs": [
        {
          "output_type": "execute_result",
          "data": {
            "text/html": [
              "<div>\n",
              "<style scoped>\n",
              "    .dataframe tbody tr th:only-of-type {\n",
              "        vertical-align: middle;\n",
              "    }\n",
              "\n",
              "    .dataframe tbody tr th {\n",
              "        vertical-align: top;\n",
              "    }\n",
              "\n",
              "    .dataframe thead th {\n",
              "        text-align: right;\n",
              "    }\n",
              "</style>\n",
              "<table border=\"1\" class=\"dataframe\">\n",
              "  <thead>\n",
              "    <tr style=\"text-align: right;\">\n",
              "      <th></th>\n",
              "      <th>estimated_insects_count</th>\n",
              "      <th>crop_type</th>\n",
              "      <th>soil_type</th>\n",
              "      <th>pesticide_use_category</th>\n",
              "      <th>number_doses_week</th>\n",
              "      <th>number_weeks_used</th>\n",
              "      <th>number_weeks_quit</th>\n",
              "      <th>season</th>\n",
              "      <th>crop_damage</th>\n",
              "      <th>Avg_Dose_Insect</th>\n",
              "      <th>TotalDoses</th>\n",
              "    </tr>\n",
              "  </thead>\n",
              "  <tbody>\n",
              "    <tr>\n",
              "      <th>count</th>\n",
              "      <td>88858.000000</td>\n",
              "      <td>88858.000000</td>\n",
              "      <td>88858.000000</td>\n",
              "      <td>88858.000000</td>\n",
              "      <td>88858.000000</td>\n",
              "      <td>88858.000000</td>\n",
              "      <td>88858.000000</td>\n",
              "      <td>88858.000000</td>\n",
              "      <td>88858.000000</td>\n",
              "      <td>88858.000000</td>\n",
              "      <td>88858.000000</td>\n",
              "    </tr>\n",
              "    <tr>\n",
              "      <th>mean</th>\n",
              "      <td>1399.012210</td>\n",
              "      <td>0.284375</td>\n",
              "      <td>0.458417</td>\n",
              "      <td>2.264186</td>\n",
              "      <td>25.849952</td>\n",
              "      <td>28.623970</td>\n",
              "      <td>9.589986</td>\n",
              "      <td>1.896959</td>\n",
              "      <td>0.190562</td>\n",
              "      <td>81.888426</td>\n",
              "      <td>761.814633</td>\n",
              "    </tr>\n",
              "    <tr>\n",
              "      <th>std</th>\n",
              "      <td>849.048781</td>\n",
              "      <td>0.451119</td>\n",
              "      <td>0.498271</td>\n",
              "      <td>0.461772</td>\n",
              "      <td>15.554428</td>\n",
              "      <td>11.747567</td>\n",
              "      <td>9.900631</td>\n",
              "      <td>0.701322</td>\n",
              "      <td>0.454215</td>\n",
              "      <td>91.534935</td>\n",
              "      <td>574.003013</td>\n",
              "    </tr>\n",
              "    <tr>\n",
              "      <th>min</th>\n",
              "      <td>150.000000</td>\n",
              "      <td>0.000000</td>\n",
              "      <td>0.000000</td>\n",
              "      <td>1.000000</td>\n",
              "      <td>0.000000</td>\n",
              "      <td>0.000000</td>\n",
              "      <td>0.000000</td>\n",
              "      <td>1.000000</td>\n",
              "      <td>0.000000</td>\n",
              "      <td>0.000000</td>\n",
              "      <td>0.000000</td>\n",
              "    </tr>\n",
              "    <tr>\n",
              "      <th>25%</th>\n",
              "      <td>731.000000</td>\n",
              "      <td>0.000000</td>\n",
              "      <td>0.000000</td>\n",
              "      <td>2.000000</td>\n",
              "      <td>15.000000</td>\n",
              "      <td>20.000000</td>\n",
              "      <td>0.000000</td>\n",
              "      <td>1.000000</td>\n",
              "      <td>0.000000</td>\n",
              "      <td>26.400000</td>\n",
              "      <td>330.000000</td>\n",
              "    </tr>\n",
              "    <tr>\n",
              "      <th>50%</th>\n",
              "      <td>1212.000000</td>\n",
              "      <td>0.000000</td>\n",
              "      <td>0.000000</td>\n",
              "      <td>2.000000</td>\n",
              "      <td>20.000000</td>\n",
              "      <td>28.623970</td>\n",
              "      <td>7.000000</td>\n",
              "      <td>2.000000</td>\n",
              "      <td>0.000000</td>\n",
              "      <td>52.600000</td>\n",
              "      <td>600.000000</td>\n",
              "    </tr>\n",
              "    <tr>\n",
              "      <th>75%</th>\n",
              "      <td>1898.000000</td>\n",
              "      <td>1.000000</td>\n",
              "      <td>1.000000</td>\n",
              "      <td>3.000000</td>\n",
              "      <td>40.000000</td>\n",
              "      <td>36.000000</td>\n",
              "      <td>16.000000</td>\n",
              "      <td>2.000000</td>\n",
              "      <td>0.000000</td>\n",
              "      <td>100.800000</td>\n",
              "      <td>1040.000000</td>\n",
              "    </tr>\n",
              "    <tr>\n",
              "      <th>max</th>\n",
              "      <td>4097.000000</td>\n",
              "      <td>1.000000</td>\n",
              "      <td>1.000000</td>\n",
              "      <td>3.000000</td>\n",
              "      <td>95.000000</td>\n",
              "      <td>67.000000</td>\n",
              "      <td>50.000000</td>\n",
              "      <td>3.000000</td>\n",
              "      <td>2.000000</td>\n",
              "      <td>819.400000</td>\n",
              "      <td>5510.000000</td>\n",
              "    </tr>\n",
              "  </tbody>\n",
              "</table>\n",
              "</div>"
            ],
            "text/plain": [
              "       estimated_insects_count     crop_type  ...  Avg_Dose_Insect    TotalDoses\n",
              "count             88858.000000  88858.000000  ...     88858.000000  88858.000000\n",
              "mean               1399.012210      0.284375  ...        81.888426    761.814633\n",
              "std                 849.048781      0.451119  ...        91.534935    574.003013\n",
              "min                 150.000000      0.000000  ...         0.000000      0.000000\n",
              "25%                 731.000000      0.000000  ...        26.400000    330.000000\n",
              "50%                1212.000000      0.000000  ...        52.600000    600.000000\n",
              "75%                1898.000000      1.000000  ...       100.800000   1040.000000\n",
              "max                4097.000000      1.000000  ...       819.400000   5510.000000\n",
              "\n",
              "[8 rows x 11 columns]"
            ]
          },
          "metadata": {
            "tags": []
          },
          "execution_count": 46
        }
      ]
    },
    {
      "cell_type": "markdown",
      "metadata": {
        "id": "HmcLIpMZKTgR"
      },
      "source": [
        "### Null Values"
      ]
    },
    {
      "cell_type": "code",
      "metadata": {
        "id": "JkqWcyYnKTgR",
        "outputId": "680d6598-db73-4c36-96e8-9e676dd02690"
      },
      "source": [
        "null_values_per_variable = 100 * (df.isnull().sum()/df.shape[0]).round(3)#.reset_index()\n",
        "null_values_per_variable.sort_values(ascending=False)"
      ],
      "execution_count": null,
      "outputs": [
        {
          "output_type": "execute_result",
          "data": {
            "text/plain": [
              "number_weeks_used          10.1\n",
              "crop_damage                 0.0\n",
              "season                      0.0\n",
              "number_weeks_quit           0.0\n",
              "number_doses_week           0.0\n",
              "pesticide_use_category      0.0\n",
              "soil_type                   0.0\n",
              "crop_type                   0.0\n",
              "estimated_insects_count     0.0\n",
              "id                          0.0\n",
              "dtype: float64"
            ]
          },
          "metadata": {
            "tags": []
          },
          "execution_count": 11
        }
      ]
    },
    {
      "cell_type": "code",
      "metadata": {
        "id": "02jU1N5KKTgV",
        "outputId": "88f0c666-ea21-4351-e032-46c91842a29c",
        "colab": {
          "base_uri": "https://localhost:8080/",
          "height": 84
        }
      },
      "source": [
        "df.crop_damage.value_counts()"
      ],
      "execution_count": 47,
      "outputs": [
        {
          "output_type": "execute_result",
          "data": {
            "text/plain": [
              "0    74238\n",
              "1    12307\n",
              "2     2313\n",
              "Name: crop_damage, dtype: int64"
            ]
          },
          "metadata": {
            "tags": []
          },
          "execution_count": 47
        }
      ]
    },
    {
      "cell_type": "code",
      "metadata": {
        "id": "guoOnJnSKTgX",
        "outputId": "ada27d4c-126f-4d78-aef9-e2ddcb2cce48",
        "colab": {
          "base_uri": "https://localhost:8080/",
          "height": 346
        }
      },
      "source": [
        "_ = sns.countplot(df[TARGET_COL])\n",
        "_ = plt.title(\"Target Distribution\", fontsize=14)"
      ],
      "execution_count": 48,
      "outputs": [
        {
          "output_type": "stream",
          "text": [
            "/usr/local/lib/python3.6/dist-packages/seaborn/_decorators.py:43: FutureWarning: Pass the following variable as a keyword arg: x. From version 0.12, the only valid positional argument will be `data`, and passing other arguments without an explicit keyword will result in an error or misinterpretation.\n",
            "  FutureWarning\n"
          ],
          "name": "stderr"
        },
        {
          "output_type": "display_data",
          "data": {
            "image/png": "[encoded data removed]",
            "text/plain": [
              "<Figure size 432x288 with 1 Axes>"
            ]
          },
          "metadata": {
            "tags": [],
            "needs_background": "light"
          }
        }
      ]
    },
    {
      "cell_type": "markdown",
      "metadata": {
        "id": "gbks0FMkKTgZ"
      },
      "source": [
        "## Hypothesis:\n",
        "### 1. Pesticides are destroying crop more?\n",
        "### 2. More the number of insects count more damage?\n",
        "### 3. Crop type and soil type may matter?\n",
        "### 4. More the number of doses in a week more the damage?"
      ]
    },
    {
      "cell_type": "code",
      "metadata": {
        "id": "nW2yO-awKTgZ"
      },
      "source": [
        "features = [c for c in df.columns if c not in [ID_COL, TARGET_COL]]"
      ],
      "execution_count": 49,
      "outputs": []
    },
    {
      "cell_type": "code",
      "metadata": {
        "id": "0z41PDAwKTgb",
        "outputId": "bab9407e-877f-4b19-a05b-9f7e2e94346c",
        "colab": {
          "base_uri": "https://localhost:8080/",
          "height": 1000
        }
      },
      "source": [
        "fig, axes = plt.subplots(8, 1, figsize=(8, 20))\n",
        "for i, c in enumerate(features):\n",
        "  _ = df[[c]].boxplot(ax=axes[i], vert=False)"
      ],
      "execution_count": 50,
      "outputs": [
        {
          "output_type": "error",
          "ename": "IndexError",
          "evalue": "ignored",
          "traceback": [
            "\u001b[0;31m---------------------------------------------------------------------------\u001b[0m",
            "\u001b[0;31mIndexError\u001b[0m                                Traceback (most recent call last)",
            "\u001b[0;32m<ipython-input-50-14f1f3b6b81f>\u001b[0m in \u001b[0;36m<module>\u001b[0;34m()\u001b[0m\n\u001b[1;32m      1\u001b[0m \u001b[0mfig\u001b[0m\u001b[0;34m,\u001b[0m \u001b[0maxes\u001b[0m \u001b[0;34m=\u001b[0m \u001b[0mplt\u001b[0m\u001b[0;34m.\u001b[0m\u001b[0msubplots\u001b[0m\u001b[0;34m(\u001b[0m\u001b[0;36m8\u001b[0m\u001b[0;34m,\u001b[0m \u001b[0;36m1\u001b[0m\u001b[0;34m,\u001b[0m \u001b[0mfigsize\u001b[0m\u001b[0;34m=\u001b[0m\u001b[0;34m(\u001b[0m\u001b[0;36m8\u001b[0m\u001b[0;34m,\u001b[0m \u001b[0;36m20\u001b[0m\u001b[0;34m)\u001b[0m\u001b[0;34m)\u001b[0m\u001b[0;34m\u001b[0m\u001b[0;34m\u001b[0m\u001b[0m\n\u001b[1;32m      2\u001b[0m \u001b[0;32mfor\u001b[0m \u001b[0mi\u001b[0m\u001b[0;34m,\u001b[0m \u001b[0mc\u001b[0m \u001b[0;32min\u001b[0m \u001b[0menumerate\u001b[0m\u001b[0;34m(\u001b[0m\u001b[0mfeatures\u001b[0m\u001b[0;34m)\u001b[0m\u001b[0;34m:\u001b[0m\u001b[0;34m\u001b[0m\u001b[0;34m\u001b[0m\u001b[0m\n\u001b[0;32m----> 3\u001b[0;31m   \u001b[0m_\u001b[0m \u001b[0;34m=\u001b[0m \u001b[0mdf\u001b[0m\u001b[0;34m[\u001b[0m\u001b[0;34m[\u001b[0m\u001b[0mc\u001b[0m\u001b[0;34m]\u001b[0m\u001b[0;34m]\u001b[0m\u001b[0;34m.\u001b[0m\u001b[0mboxplot\u001b[0m\u001b[0;34m(\u001b[0m\u001b[0max\u001b[0m\u001b[0;34m=\u001b[0m\u001b[0maxes\u001b[0m\u001b[0;34m[\u001b[0m\u001b[0mi\u001b[0m\u001b[0;34m]\u001b[0m\u001b[0;34m,\u001b[0m \u001b[0mvert\u001b[0m\u001b[0;34m=\u001b[0m\u001b[0;32mFalse\u001b[0m\u001b[0;34m)\u001b[0m\u001b[0;34m\u001b[0m\u001b[0;34m\u001b[0m\u001b[0m\n\u001b[0m",
            "\u001b[0;31mIndexError\u001b[0m: index 8 is out of bounds for axis 0 with size 8"
          ]
        },
        {
          "output_type": "display_data",
          "data": {
            "image/png": "[encoded data removed]",
            "text/plain": [
              "<Figure size 576x1440 with 8 Axes>"
            ]
          },
          "metadata": {
            "tags": [],
            "needs_background": "light"
          }
        }
      ]
    },
    {
      "cell_type": "markdown",
      "metadata": {
        "id": "N5vCdzzrKTgd"
      },
      "source": [
        "### Checking for pesticides"
      ]
    },
    {
      "cell_type": "code",
      "metadata": {
        "id": "5hyOa7N5KTgd",
        "outputId": "c6abf88b-94c6-48f3-a9a5-27a4af8e067b",
        "colab": {
          "base_uri": "https://localhost:8080/",
          "height": 84
        }
      },
      "source": [
        "df['pesticide_use_category'].value_counts()"
      ],
      "execution_count": 54,
      "outputs": [
        {
          "output_type": "execute_result",
          "data": {
            "text/plain": [
              "2    63709\n",
              "3    24312\n",
              "1      837\n",
              "Name: pesticide_use_category, dtype: int64"
            ]
          },
          "metadata": {
            "tags": []
          },
          "execution_count": 54
        }
      ]
    },
    {
      "cell_type": "code",
      "metadata": {
        "id": "F6PwmYi6KTgf"
      },
      "source": [
        "a=df[df['crop_damage']==0]['pesticide_use_category'].value_counts()\n",
        "b=df[df['crop_damage']==1]['pesticide_use_category'].value_counts()\n",
        "c=df[df['crop_damage']==2]['pesticide_use_category'].value_counts()"
      ],
      "execution_count": 55,
      "outputs": []
    },
    {
      "cell_type": "code",
      "metadata": {
        "id": "Ch_Wf8nOKTgh",
        "outputId": "59d4fb24-d62c-48b9-f5d1-de0a1ec09482",
        "colab": {
          "base_uri": "https://localhost:8080/",
          "height": 748
        }
      },
      "source": [
        "import seaborn as sns\n",
        "import matplotlib.pyplot as plt\n",
        "sns.set(style=\"white\", palette=\"muted\", color_codes=True)\n",
        "\n",
        "f, axes = plt.subplots(3, 1, figsize=(10, 10))\n",
        "sns.barplot(a.index,a,  color=\"b\", ax=axes[0]).set_title('Crop Damage : 0')\n",
        "sns.barplot(b.index,b,  color=\"b\", ax=axes[1]).set_title('Crop Damage : 1')\n",
        "sns.barplot(c.index,c,  color=\"b\", ax=axes[2]).set_title('Crop Damage : 2')"
      ],
      "execution_count": 56,
      "outputs": [
        {
          "output_type": "stream",
          "text": [
            "/usr/local/lib/python3.6/dist-packages/seaborn/_decorators.py:43: FutureWarning: Pass the following variables as keyword args: x, y. From version 0.12, the only valid positional argument will be `data`, and passing other arguments without an explicit keyword will result in an error or misinterpretation.\n",
            "  FutureWarning\n",
            "/usr/local/lib/python3.6/dist-packages/seaborn/_decorators.py:43: FutureWarning: Pass the following variables as keyword args: x, y. From version 0.12, the only valid positional argument will be `data`, and passing other arguments without an explicit keyword will result in an error or misinterpretation.\n",
            "  FutureWarning\n",
            "/usr/local/lib/python3.6/dist-packages/seaborn/_decorators.py:43: FutureWarning: Pass the following variables as keyword args: x, y. From version 0.12, the only valid positional argument will be `data`, and passing other arguments without an explicit keyword will result in an error or misinterpretation.\n",
            "  FutureWarning\n"
          ],
          "name": "stderr"
        },
        {
          "output_type": "execute_result",
          "data": {
            "text/plain": [
              "Text(0.5, 1.0, 'Crop Damage : 2')"
            ]
          },
          "metadata": {
            "tags": []
          },
          "execution_count": 56
        },
        {
          "output_type": "display_data",
          "data": {
            "image/png": "[encoded data removed]",
            "text/plain": [
              "<Figure size 720x720 with 3 Axes>"
            ]
          },
          "metadata": {
            "tags": []
          }
        }
      ]
    },
    {
      "cell_type": "markdown",
      "metadata": {
        "id": "C0ecBueVKTgj"
      },
      "source": [
        "### 1.It is clear that using type 3 pesticides have given more damage to crop.\n",
        "### 2.It is observed that type 2 pesticides is not the major reason for crop damage due to pesticides."
      ]
    },
    {
      "cell_type": "markdown",
      "metadata": {
        "id": "tmHpTIfXKTgk"
      },
      "source": [
        "## Crop Type"
      ]
    },
    {
      "cell_type": "code",
      "metadata": {
        "id": "M5O_tEkKKTgk"
      },
      "source": [
        "a=df[df['crop_damage']==0]['crop_type'].value_counts()\n",
        "b=df[df['crop_damage']==1]['crop_type'].value_counts()\n",
        "c=df[df['crop_damage']==2]['crop_type'].value_counts()"
      ],
      "execution_count": 57,
      "outputs": []
    },
    {
      "cell_type": "code",
      "metadata": {
        "id": "bJpb9Wy0KTgm",
        "outputId": "08b4dbe4-9824-43c2-c1cb-caa88d09f072",
        "colab": {
          "base_uri": "https://localhost:8080/",
          "height": 748
        }
      },
      "source": [
        "import seaborn as sns\n",
        "import matplotlib.pyplot as plt\n",
        "sns.set(style=\"white\", palette=\"muted\", color_codes=True)\n",
        "\n",
        "f, axes = plt.subplots(3, 1, figsize=(10, 10))\n",
        "sns.barplot(a.index,a,  color=\"b\", ax=axes[0]).set_title('Crop Damage : 0')\n",
        "sns.barplot(b.index,b,  color=\"b\", ax=axes[1]).set_title('Crop Damage : 1')\n",
        "sns.barplot(c.index,c,  color=\"b\", ax=axes[2]).set_title('Crop Damage : 2')"
      ],
      "execution_count": 58,
      "outputs": [
        {
          "output_type": "stream",
          "text": [
            "/usr/local/lib/python3.6/dist-packages/seaborn/_decorators.py:43: FutureWarning: Pass the following variables as keyword args: x, y. From version 0.12, the only valid positional argument will be `data`, and passing other arguments without an explicit keyword will result in an error or misinterpretation.\n",
            "  FutureWarning\n",
            "/usr/local/lib/python3.6/dist-packages/seaborn/_decorators.py:43: FutureWarning: Pass the following variables as keyword args: x, y. From version 0.12, the only valid positional argument will be `data`, and passing other arguments without an explicit keyword will result in an error or misinterpretation.\n",
            "  FutureWarning\n",
            "/usr/local/lib/python3.6/dist-packages/seaborn/_decorators.py:43: FutureWarning: Pass the following variables as keyword args: x, y. From version 0.12, the only valid positional argument will be `data`, and passing other arguments without an explicit keyword will result in an error or misinterpretation.\n",
            "  FutureWarning\n"
          ],
          "name": "stderr"
        },
        {
          "output_type": "execute_result",
          "data": {
            "text/plain": [
              "Text(0.5, 1.0, 'Crop Damage : 2')"
            ]
          },
          "metadata": {
            "tags": []
          },
          "execution_count": 58
        },
        {
          "output_type": "display_data",
          "data": {
            "image/png": "[encoded data removed]",
            "text/plain": [
              "<Figure size 720x720 with 3 Axes>"
            ]
          },
          "metadata": {
            "tags": []
          }
        }
      ]
    },
    {
      "cell_type": "code",
      "metadata": {
        "id": "1uFZ8NrNKTgo"
      },
      "source": [
        "bins = [0, 500, 1000, 1500, 2000, 2500, 3000,3500,4000,4500]\n",
        "df['estimated_insects_count_binned'] = pd.cut(df['estimated_insects_count'], bins)"
      ],
      "execution_count": 59,
      "outputs": []
    },
    {
      "cell_type": "code",
      "metadata": {
        "id": "Gkrv0yroKTgq"
      },
      "source": [
        "a=df[df['crop_damage']==0]['estimated_insects_count_binned'].value_counts()\n",
        "b=df[df['crop_damage']==1]['estimated_insects_count_binned'].value_counts()\n",
        "c=df[df['crop_damage']==2]['estimated_insects_count_binned'].value_counts()"
      ],
      "execution_count": 60,
      "outputs": []
    },
    {
      "cell_type": "code",
      "metadata": {
        "id": "CdWCTv4gKTgs",
        "outputId": "89f14a90-4064-47ef-eb93-844297e9109d",
        "colab": {
          "base_uri": "https://localhost:8080/",
          "height": 750
        }
      },
      "source": [
        "import seaborn as sns\n",
        "import matplotlib.pyplot as plt\n",
        "sns.set(style=\"white\", palette=\"muted\", color_codes=True)\n",
        "\n",
        "f, axes = plt.subplots(3, 1, figsize=(10, 10))\n",
        "sns.barplot(a.index,a,  color=\"b\", ax=axes[0]).set_title('Crop Damage : 0')\n",
        "sns.barplot(b.index,b,  color=\"b\", ax=axes[1]).set_title('Crop Damage : 1')\n",
        "sns.barplot(c.index,c,  color=\"b\", ax=axes[2]).set_title('Crop Damage : 2')"
      ],
      "execution_count": 61,
      "outputs": [
        {
          "output_type": "stream",
          "text": [
            "/usr/local/lib/python3.6/dist-packages/seaborn/_decorators.py:43: FutureWarning: Pass the following variables as keyword args: x, y. From version 0.12, the only valid positional argument will be `data`, and passing other arguments without an explicit keyword will result in an error or misinterpretation.\n",
            "  FutureWarning\n",
            "/usr/local/lib/python3.6/dist-packages/seaborn/_decorators.py:43: FutureWarning: Pass the following variables as keyword args: x, y. From version 0.12, the only valid positional argument will be `data`, and passing other arguments without an explicit keyword will result in an error or misinterpretation.\n",
            "  FutureWarning\n",
            "/usr/local/lib/python3.6/dist-packages/seaborn/_decorators.py:43: FutureWarning: Pass the following variables as keyword args: x, y. From version 0.12, the only valid positional argument will be `data`, and passing other arguments without an explicit keyword will result in an error or misinterpretation.\n",
            "  FutureWarning\n"
          ],
          "name": "stderr"
        },
        {
          "output_type": "execute_result",
          "data": {
            "text/plain": [
              "Text(0.5, 1.0, 'Crop Damage : 2')"
            ]
          },
          "metadata": {
            "tags": []
          },
          "execution_count": 61
        },
        {
          "output_type": "display_data",
          "data": {
            "image/png": "[encoded data removed]",
            "text/plain": [
              "<Figure size 720x720 with 3 Axes>"
            ]
          },
          "metadata": {
            "tags": []
          }
        }
      ]
    },
    {
      "cell_type": "markdown",
      "metadata": {
        "id": "1ABGABO6KTgu"
      },
      "source": [
        "### We can conclude that it's not high number of insects means more crop damage."
      ]
    },
    {
      "cell_type": "code",
      "metadata": {
        "id": "SjmyqivcKTgu",
        "outputId": "067bd28c-e3bf-43e0-b71e-17e1d64490d3",
        "colab": {
          "base_uri": "https://localhost:8080/",
          "height": 633
        }
      },
      "source": [
        "import seaborn as sns\n",
        "import matplotlib.pyplot as plt\n",
        "f, ax = plt.subplots(figsize=(10, 8))\n",
        "sns.heatmap(df.corr(),annot=True,ax=ax)"
      ],
      "execution_count": 62,
      "outputs": [
        {
          "output_type": "execute_result",
          "data": {
            "text/plain": [
              "<matplotlib.axes._subplots.AxesSubplot at 0x7f67b4346c88>"
            ]
          },
          "metadata": {
            "tags": []
          },
          "execution_count": 62
        },
        {
          "output_type": "display_data",
          "data": {
            "image/png": "[encoded data removed]",
            "text/plain": [
              "<Figure size 720x576 with 2 Axes>"
            ]
          },
          "metadata": {
            "tags": []
          }
        }
      ]
    },
    {
      "cell_type": "code",
      "metadata": {
        "id": "tEKsAG8YKTgw",
        "outputId": "498a11a7-9afa-4a01-884c-02e2bb6d77b6",
        "colab": {
          "base_uri": "https://localhost:8080/",
          "height": 215
        }
      },
      "source": [
        "df.head()"
      ],
      "execution_count": 63,
      "outputs": [
        {
          "output_type": "execute_result",
          "data": {
            "text/html": [
              "<div>\n",
              "<style scoped>\n",
              "    .dataframe tbody tr th:only-of-type {\n",
              "        vertical-align: middle;\n",
              "    }\n",
              "\n",
              "    .dataframe tbody tr th {\n",
              "        vertical-align: top;\n",
              "    }\n",
              "\n",
              "    .dataframe thead th {\n",
              "        text-align: right;\n",
              "    }\n",
              "</style>\n",
              "<table border=\"1\" class=\"dataframe\">\n",
              "  <thead>\n",
              "    <tr style=\"text-align: right;\">\n",
              "      <th></th>\n",
              "      <th>estimated_insects_count</th>\n",
              "      <th>crop_type</th>\n",
              "      <th>soil_type</th>\n",
              "      <th>pesticide_use_category</th>\n",
              "      <th>number_doses_week</th>\n",
              "      <th>number_weeks_used</th>\n",
              "      <th>number_weeks_quit</th>\n",
              "      <th>season</th>\n",
              "      <th>crop_damage</th>\n",
              "      <th>Avg_Dose_Insect</th>\n",
              "      <th>TotalDoses</th>\n",
              "      <th>estimated_insects_count_binned</th>\n",
              "    </tr>\n",
              "  </thead>\n",
              "  <tbody>\n",
              "    <tr>\n",
              "      <th>0</th>\n",
              "      <td>188</td>\n",
              "      <td>1</td>\n",
              "      <td>0</td>\n",
              "      <td>1</td>\n",
              "      <td>0</td>\n",
              "      <td>0.0</td>\n",
              "      <td>0</td>\n",
              "      <td>1</td>\n",
              "      <td>0</td>\n",
              "      <td>0.0</td>\n",
              "      <td>0.0</td>\n",
              "      <td>(0, 500]</td>\n",
              "    </tr>\n",
              "    <tr>\n",
              "      <th>1</th>\n",
              "      <td>209</td>\n",
              "      <td>1</td>\n",
              "      <td>0</td>\n",
              "      <td>1</td>\n",
              "      <td>0</td>\n",
              "      <td>0.0</td>\n",
              "      <td>0</td>\n",
              "      <td>2</td>\n",
              "      <td>1</td>\n",
              "      <td>0.0</td>\n",
              "      <td>0.0</td>\n",
              "      <td>(0, 500]</td>\n",
              "    </tr>\n",
              "    <tr>\n",
              "      <th>2</th>\n",
              "      <td>257</td>\n",
              "      <td>1</td>\n",
              "      <td>0</td>\n",
              "      <td>1</td>\n",
              "      <td>0</td>\n",
              "      <td>0.0</td>\n",
              "      <td>0</td>\n",
              "      <td>2</td>\n",
              "      <td>1</td>\n",
              "      <td>0.0</td>\n",
              "      <td>0.0</td>\n",
              "      <td>(0, 500]</td>\n",
              "    </tr>\n",
              "    <tr>\n",
              "      <th>3</th>\n",
              "      <td>257</td>\n",
              "      <td>1</td>\n",
              "      <td>1</td>\n",
              "      <td>1</td>\n",
              "      <td>0</td>\n",
              "      <td>0.0</td>\n",
              "      <td>0</td>\n",
              "      <td>2</td>\n",
              "      <td>1</td>\n",
              "      <td>0.0</td>\n",
              "      <td>0.0</td>\n",
              "      <td>(0, 500]</td>\n",
              "    </tr>\n",
              "    <tr>\n",
              "      <th>4</th>\n",
              "      <td>342</td>\n",
              "      <td>1</td>\n",
              "      <td>0</td>\n",
              "      <td>1</td>\n",
              "      <td>0</td>\n",
              "      <td>0.0</td>\n",
              "      <td>0</td>\n",
              "      <td>2</td>\n",
              "      <td>1</td>\n",
              "      <td>0.0</td>\n",
              "      <td>0.0</td>\n",
              "      <td>(0, 500]</td>\n",
              "    </tr>\n",
              "  </tbody>\n",
              "</table>\n",
              "</div>"
            ],
            "text/plain": [
              "   estimated_insects_count  ...  estimated_insects_count_binned\n",
              "0                      188  ...                        (0, 500]\n",
              "1                      209  ...                        (0, 500]\n",
              "2                      257  ...                        (0, 500]\n",
              "3                      257  ...                        (0, 500]\n",
              "4                      342  ...                        (0, 500]\n",
              "\n",
              "[5 rows x 12 columns]"
            ]
          },
          "metadata": {
            "tags": []
          },
          "execution_count": 63
        }
      ]
    },
    {
      "cell_type": "markdown",
      "metadata": {
        "id": "7xokQXM9KTgy"
      },
      "source": [
        "## Soil Type"
      ]
    },
    {
      "cell_type": "code",
      "metadata": {
        "id": "ZBRlb42HKTgy"
      },
      "source": [
        "a=df[df['crop_damage']==0]['soil_type'].value_counts(normalize=True)\n",
        "b=df[df['crop_damage']==1]['soil_type'].value_counts(normalize=True)\n",
        "c=df[df['crop_damage']==2]['soil_type'].value_counts(normalize=True)"
      ],
      "execution_count": 64,
      "outputs": []
    },
    {
      "cell_type": "code",
      "metadata": {
        "id": "rxhoShSSKTg1",
        "outputId": "fa9f18e1-b48d-42fe-9460-e9367a2a3c12",
        "colab": {
          "base_uri": "https://localhost:8080/",
          "height": 748
        }
      },
      "source": [
        "import seaborn as sns\n",
        "import matplotlib.pyplot as plt\n",
        "sns.set(style=\"white\", palette=\"muted\", color_codes=True)\n",
        "\n",
        "f, axes = plt.subplots(3, 1, figsize=(10, 10))\n",
        "sns.barplot(a.index,a,  color=\"b\", ax=axes[0]).set_title('Crop Damage : 0')\n",
        "sns.barplot(b.index,b,  color=\"b\", ax=axes[1]).set_title('Crop Damage : 1')\n",
        "sns.barplot(c.index,c,  color=\"b\", ax=axes[2]).set_title('Crop Damage : 2')"
      ],
      "execution_count": 65,
      "outputs": [
        {
          "output_type": "stream",
          "text": [
            "/usr/local/lib/python3.6/dist-packages/seaborn/_decorators.py:43: FutureWarning: Pass the following variables as keyword args: x, y. From version 0.12, the only valid positional argument will be `data`, and passing other arguments without an explicit keyword will result in an error or misinterpretation.\n",
            "  FutureWarning\n",
            "/usr/local/lib/python3.6/dist-packages/seaborn/_decorators.py:43: FutureWarning: Pass the following variables as keyword args: x, y. From version 0.12, the only valid positional argument will be `data`, and passing other arguments without an explicit keyword will result in an error or misinterpretation.\n",
            "  FutureWarning\n",
            "/usr/local/lib/python3.6/dist-packages/seaborn/_decorators.py:43: FutureWarning: Pass the following variables as keyword args: x, y. From version 0.12, the only valid positional argument will be `data`, and passing other arguments without an explicit keyword will result in an error or misinterpretation.\n",
            "  FutureWarning\n"
          ],
          "name": "stderr"
        },
        {
          "output_type": "execute_result",
          "data": {
            "text/plain": [
              "Text(0.5, 1.0, 'Crop Damage : 2')"
            ]
          },
          "metadata": {
            "tags": []
          },
          "execution_count": 65
        },
        {
          "output_type": "display_data",
          "data": {
            "image/png": "[encoded data removed]",
            "text/plain": [
              "<Figure size 720x720 with 3 Axes>"
            ]
          },
          "metadata": {
            "tags": []
          }
        }
      ]
    },
    {
      "cell_type": "code",
      "metadata": {
        "id": "dn6dhlvTKTg3"
      },
      "source": [
        "a=df[df['crop_damage']==0]['number_doses_week'].value_counts(normalize=True)\n",
        "b=df[df['crop_damage']==1]['number_doses_week'].value_counts(normalize=True)\n",
        "c=df[df['crop_damage']==2]['number_doses_week'].value_counts(normalize=True)"
      ],
      "execution_count": 66,
      "outputs": []
    },
    {
      "cell_type": "code",
      "metadata": {
        "id": "9U8g1wRaKTg5",
        "outputId": "d4915199-bda6-4171-8df8-77cd440c659b",
        "colab": {
          "base_uri": "https://localhost:8080/",
          "height": 731
        }
      },
      "source": [
        "sns.set(style=\"white\", palette=\"muted\", color_codes=True)\n",
        "\n",
        "f, axes = plt.subplots(3, 1, figsize=(10, 10))\n",
        "sns.barplot(a.index,a,  color=\"b\", ax=axes[0]).set_title('Crop Damage : 0')\n",
        "sns.barplot(b.index,b,  color=\"b\", ax=axes[1]).set_title('Crop Damage : 1')\n",
        "sns.barplot(c.index,c,  color=\"b\", ax=axes[2]).set_title('Crop Damage : 2');"
      ],
      "execution_count": 67,
      "outputs": [
        {
          "output_type": "stream",
          "text": [
            "/usr/local/lib/python3.6/dist-packages/seaborn/_decorators.py:43: FutureWarning: Pass the following variables as keyword args: x, y. From version 0.12, the only valid positional argument will be `data`, and passing other arguments without an explicit keyword will result in an error or misinterpretation.\n",
            "  FutureWarning\n",
            "/usr/local/lib/python3.6/dist-packages/seaborn/_decorators.py:43: FutureWarning: Pass the following variables as keyword args: x, y. From version 0.12, the only valid positional argument will be `data`, and passing other arguments without an explicit keyword will result in an error or misinterpretation.\n",
            "  FutureWarning\n",
            "/usr/local/lib/python3.6/dist-packages/seaborn/_decorators.py:43: FutureWarning: Pass the following variables as keyword args: x, y. From version 0.12, the only valid positional argument will be `data`, and passing other arguments without an explicit keyword will result in an error or misinterpretation.\n",
            "  FutureWarning\n"
          ],
          "name": "stderr"
        },
        {
          "output_type": "display_data",
          "data": {
            "image/png": "[encoded data removed]",
            "text/plain": [
              "<Figure size 720x720 with 3 Axes>"
            ]
          },
          "metadata": {
            "tags": []
          }
        }
      ]
    },
    {
      "cell_type": "markdown",
      "metadata": {
        "id": "qQXsZKkwKTg7"
      },
      "source": [
        "### It is observed more number of doses doesn't lead to more crop damage"
      ]
    },
    {
      "cell_type": "markdown",
      "metadata": {
        "id": "vNJOLepGKTg8"
      },
      "source": [
        "# Number of weeks used"
      ]
    },
    {
      "cell_type": "code",
      "metadata": {
        "id": "3T_JqZR5KTg9",
        "outputId": "ad45caf1-864e-4887-ed0f-b7134496d70d",
        "colab": {
          "base_uri": "https://localhost:8080/",
          "height": 215
        }
      },
      "source": [
        "df.head()"
      ],
      "execution_count": 68,
      "outputs": [
        {
          "output_type": "execute_result",
          "data": {
            "text/html": [
              "<div>\n",
              "<style scoped>\n",
              "    .dataframe tbody tr th:only-of-type {\n",
              "        vertical-align: middle;\n",
              "    }\n",
              "\n",
              "    .dataframe tbody tr th {\n",
              "        vertical-align: top;\n",
              "    }\n",
              "\n",
              "    .dataframe thead th {\n",
              "        text-align: right;\n",
              "    }\n",
              "</style>\n",
              "<table border=\"1\" class=\"dataframe\">\n",
              "  <thead>\n",
              "    <tr style=\"text-align: right;\">\n",
              "      <th></th>\n",
              "      <th>estimated_insects_count</th>\n",
              "      <th>crop_type</th>\n",
              "      <th>soil_type</th>\n",
              "      <th>pesticide_use_category</th>\n",
              "      <th>number_doses_week</th>\n",
              "      <th>number_weeks_used</th>\n",
              "      <th>number_weeks_quit</th>\n",
              "      <th>season</th>\n",
              "      <th>crop_damage</th>\n",
              "      <th>Avg_Dose_Insect</th>\n",
              "      <th>TotalDoses</th>\n",
              "      <th>estimated_insects_count_binned</th>\n",
              "    </tr>\n",
              "  </thead>\n",
              "  <tbody>\n",
              "    <tr>\n",
              "      <th>0</th>\n",
              "      <td>188</td>\n",
              "      <td>1</td>\n",
              "      <td>0</td>\n",
              "      <td>1</td>\n",
              "      <td>0</td>\n",
              "      <td>0.0</td>\n",
              "      <td>0</td>\n",
              "      <td>1</td>\n",
              "      <td>0</td>\n",
              "      <td>0.0</td>\n",
              "      <td>0.0</td>\n",
              "      <td>(0, 500]</td>\n",
              "    </tr>\n",
              "    <tr>\n",
              "      <th>1</th>\n",
              "      <td>209</td>\n",
              "      <td>1</td>\n",
              "      <td>0</td>\n",
              "      <td>1</td>\n",
              "      <td>0</td>\n",
              "      <td>0.0</td>\n",
              "      <td>0</td>\n",
              "      <td>2</td>\n",
              "      <td>1</td>\n",
              "      <td>0.0</td>\n",
              "      <td>0.0</td>\n",
              "      <td>(0, 500]</td>\n",
              "    </tr>\n",
              "    <tr>\n",
              "      <th>2</th>\n",
              "      <td>257</td>\n",
              "      <td>1</td>\n",
              "      <td>0</td>\n",
              "      <td>1</td>\n",
              "      <td>0</td>\n",
              "      <td>0.0</td>\n",
              "      <td>0</td>\n",
              "      <td>2</td>\n",
              "      <td>1</td>\n",
              "      <td>0.0</td>\n",
              "      <td>0.0</td>\n",
              "      <td>(0, 500]</td>\n",
              "    </tr>\n",
              "    <tr>\n",
              "      <th>3</th>\n",
              "      <td>257</td>\n",
              "      <td>1</td>\n",
              "      <td>1</td>\n",
              "      <td>1</td>\n",
              "      <td>0</td>\n",
              "      <td>0.0</td>\n",
              "      <td>0</td>\n",
              "      <td>2</td>\n",
              "      <td>1</td>\n",
              "      <td>0.0</td>\n",
              "      <td>0.0</td>\n",
              "      <td>(0, 500]</td>\n",
              "    </tr>\n",
              "    <tr>\n",
              "      <th>4</th>\n",
              "      <td>342</td>\n",
              "      <td>1</td>\n",
              "      <td>0</td>\n",
              "      <td>1</td>\n",
              "      <td>0</td>\n",
              "      <td>0.0</td>\n",
              "      <td>0</td>\n",
              "      <td>2</td>\n",
              "      <td>1</td>\n",
              "      <td>0.0</td>\n",
              "      <td>0.0</td>\n",
              "      <td>(0, 500]</td>\n",
              "    </tr>\n",
              "  </tbody>\n",
              "</table>\n",
              "</div>"
            ],
            "text/plain": [
              "   estimated_insects_count  ...  estimated_insects_count_binned\n",
              "0                      188  ...                        (0, 500]\n",
              "1                      209  ...                        (0, 500]\n",
              "2                      257  ...                        (0, 500]\n",
              "3                      257  ...                        (0, 500]\n",
              "4                      342  ...                        (0, 500]\n",
              "\n",
              "[5 rows x 12 columns]"
            ]
          },
          "metadata": {
            "tags": []
          },
          "execution_count": 68
        }
      ]
    },
    {
      "cell_type": "code",
      "metadata": {
        "id": "2ePH4xveKThA",
        "outputId": "bc197cef-c7f0-4df0-86f9-187b9ad300e5",
        "colab": {
          "base_uri": "https://localhost:8080/",
          "height": 34
        }
      },
      "source": [
        "df['number_weeks_used'].max()"
      ],
      "execution_count": 69,
      "outputs": [
        {
          "output_type": "execute_result",
          "data": {
            "text/plain": [
              "67.0"
            ]
          },
          "metadata": {
            "tags": []
          },
          "execution_count": 69
        }
      ]
    },
    {
      "cell_type": "code",
      "metadata": {
        "id": "MEJeJHuQKThD"
      },
      "source": [
        "bins = [0, 10, 20, 30, 40, 50, 60,70]\n",
        "df['number_weeks_used_binned'] = pd.cut(df['number_weeks_used'], bins)"
      ],
      "execution_count": 70,
      "outputs": []
    },
    {
      "cell_type": "code",
      "metadata": {
        "id": "f3BLV6h2KThF"
      },
      "source": [
        "a=df[df['crop_damage']==0]['number_weeks_used_binned'].value_counts(normalize=True)\n",
        "b=df[df['crop_damage']==1]['number_weeks_used_binned'].value_counts(normalize=True)\n",
        "c=df[df['crop_damage']==2]['number_weeks_used_binned'].value_counts(normalize=True)"
      ],
      "execution_count": 71,
      "outputs": []
    },
    {
      "cell_type": "code",
      "metadata": {
        "id": "Mfb09ND0KThG",
        "outputId": "bd8a74c2-fa28-47c3-a840-a0c932c1e256",
        "colab": {
          "base_uri": "https://localhost:8080/",
          "height": 731
        }
      },
      "source": [
        "sns.set(style=\"white\", palette=\"muted\", color_codes=True)\n",
        "\n",
        "f, axes = plt.subplots(3, 1, figsize=(10, 10))\n",
        "sns.barplot(a.index,a,  color=\"b\", ax=axes[0]).set_title('Crop Damage : 0')\n",
        "sns.barplot(b.index,b,  color=\"b\", ax=axes[1]).set_title('Crop Damage : 1')\n",
        "sns.barplot(c.index,c,  color=\"b\", ax=axes[2]).set_title('Crop Damage : 2');"
      ],
      "execution_count": 72,
      "outputs": [
        {
          "output_type": "stream",
          "text": [
            "/usr/local/lib/python3.6/dist-packages/seaborn/_decorators.py:43: FutureWarning: Pass the following variables as keyword args: x, y. From version 0.12, the only valid positional argument will be `data`, and passing other arguments without an explicit keyword will result in an error or misinterpretation.\n",
            "  FutureWarning\n",
            "/usr/local/lib/python3.6/dist-packages/seaborn/_decorators.py:43: FutureWarning: Pass the following variables as keyword args: x, y. From version 0.12, the only valid positional argument will be `data`, and passing other arguments without an explicit keyword will result in an error or misinterpretation.\n",
            "  FutureWarning\n",
            "/usr/local/lib/python3.6/dist-packages/seaborn/_decorators.py:43: FutureWarning: Pass the following variables as keyword args: x, y. From version 0.12, the only valid positional argument will be `data`, and passing other arguments without an explicit keyword will result in an error or misinterpretation.\n",
            "  FutureWarning\n"
          ],
          "name": "stderr"
        },
        {
          "output_type": "display_data",
          "data": {
            "image/png": "[encoded data removed]",
            "text/plain": [
              "<Figure size 720x720 with 3 Axes>"
            ]
          },
          "metadata": {
            "tags": []
          }
        }
      ]
    },
    {
      "cell_type": "markdown",
      "metadata": {
        "id": "B02j45wPKThI"
      },
      "source": [
        "## It can be concluded that for higher number of weeks used have more crop damage due to pesticides"
      ]
    },
    {
      "cell_type": "markdown",
      "metadata": {
        "id": "rd7XtGutKThI"
      },
      "source": [
        "# Number of weeks quit"
      ]
    },
    {
      "cell_type": "code",
      "metadata": {
        "id": "vPwOEGVfKThJ",
        "outputId": "85e682f2-b89c-4e36-d817-fa9080789333",
        "colab": {
          "base_uri": "https://localhost:8080/",
          "height": 215
        }
      },
      "source": [
        "df.head()"
      ],
      "execution_count": 73,
      "outputs": [
        {
          "output_type": "execute_result",
          "data": {
            "text/html": [
              "<div>\n",
              "<style scoped>\n",
              "    .dataframe tbody tr th:only-of-type {\n",
              "        vertical-align: middle;\n",
              "    }\n",
              "\n",
              "    .dataframe tbody tr th {\n",
              "        vertical-align: top;\n",
              "    }\n",
              "\n",
              "    .dataframe thead th {\n",
              "        text-align: right;\n",
              "    }\n",
              "</style>\n",
              "<table border=\"1\" class=\"dataframe\">\n",
              "  <thead>\n",
              "    <tr style=\"text-align: right;\">\n",
              "      <th></th>\n",
              "      <th>estimated_insects_count</th>\n",
              "      <th>crop_type</th>\n",
              "      <th>soil_type</th>\n",
              "      <th>pesticide_use_category</th>\n",
              "      <th>number_doses_week</th>\n",
              "      <th>number_weeks_used</th>\n",
              "      <th>number_weeks_quit</th>\n",
              "      <th>season</th>\n",
              "      <th>crop_damage</th>\n",
              "      <th>Avg_Dose_Insect</th>\n",
              "      <th>TotalDoses</th>\n",
              "      <th>estimated_insects_count_binned</th>\n",
              "      <th>number_weeks_used_binned</th>\n",
              "    </tr>\n",
              "  </thead>\n",
              "  <tbody>\n",
              "    <tr>\n",
              "      <th>0</th>\n",
              "      <td>188</td>\n",
              "      <td>1</td>\n",
              "      <td>0</td>\n",
              "      <td>1</td>\n",
              "      <td>0</td>\n",
              "      <td>0.0</td>\n",
              "      <td>0</td>\n",
              "      <td>1</td>\n",
              "      <td>0</td>\n",
              "      <td>0.0</td>\n",
              "      <td>0.0</td>\n",
              "      <td>(0, 500]</td>\n",
              "      <td>NaN</td>\n",
              "    </tr>\n",
              "    <tr>\n",
              "      <th>1</th>\n",
              "      <td>209</td>\n",
              "      <td>1</td>\n",
              "      <td>0</td>\n",
              "      <td>1</td>\n",
              "      <td>0</td>\n",
              "      <td>0.0</td>\n",
              "      <td>0</td>\n",
              "      <td>2</td>\n",
              "      <td>1</td>\n",
              "      <td>0.0</td>\n",
              "      <td>0.0</td>\n",
              "      <td>(0, 500]</td>\n",
              "      <td>NaN</td>\n",
              "    </tr>\n",
              "    <tr>\n",
              "      <th>2</th>\n",
              "      <td>257</td>\n",
              "      <td>1</td>\n",
              "      <td>0</td>\n",
              "      <td>1</td>\n",
              "      <td>0</td>\n",
              "      <td>0.0</td>\n",
              "      <td>0</td>\n",
              "      <td>2</td>\n",
              "      <td>1</td>\n",
              "      <td>0.0</td>\n",
              "      <td>0.0</td>\n",
              "      <td>(0, 500]</td>\n",
              "      <td>NaN</td>\n",
              "    </tr>\n",
              "    <tr>\n",
              "      <th>3</th>\n",
              "      <td>257</td>\n",
              "      <td>1</td>\n",
              "      <td>1</td>\n",
              "      <td>1</td>\n",
              "      <td>0</td>\n",
              "      <td>0.0</td>\n",
              "      <td>0</td>\n",
              "      <td>2</td>\n",
              "      <td>1</td>\n",
              "      <td>0.0</td>\n",
              "      <td>0.0</td>\n",
              "      <td>(0, 500]</td>\n",
              "      <td>NaN</td>\n",
              "    </tr>\n",
              "    <tr>\n",
              "      <th>4</th>\n",
              "      <td>342</td>\n",
              "      <td>1</td>\n",
              "      <td>0</td>\n",
              "      <td>1</td>\n",
              "      <td>0</td>\n",
              "      <td>0.0</td>\n",
              "      <td>0</td>\n",
              "      <td>2</td>\n",
              "      <td>1</td>\n",
              "      <td>0.0</td>\n",
              "      <td>0.0</td>\n",
              "      <td>(0, 500]</td>\n",
              "      <td>NaN</td>\n",
              "    </tr>\n",
              "  </tbody>\n",
              "</table>\n",
              "</div>"
            ],
            "text/plain": [
              "   estimated_insects_count  ...  number_weeks_used_binned\n",
              "0                      188  ...                       NaN\n",
              "1                      209  ...                       NaN\n",
              "2                      257  ...                       NaN\n",
              "3                      257  ...                       NaN\n",
              "4                      342  ...                       NaN\n",
              "\n",
              "[5 rows x 13 columns]"
            ]
          },
          "metadata": {
            "tags": []
          },
          "execution_count": 73
        }
      ]
    },
    {
      "cell_type": "code",
      "metadata": {
        "id": "7cTG3pErKThL",
        "outputId": "ff7d9e58-c60e-49db-80f8-55bf8ef6987e",
        "colab": {
          "base_uri": "https://localhost:8080/",
          "height": 34
        }
      },
      "source": [
        "df['number_weeks_quit'].max()"
      ],
      "execution_count": 74,
      "outputs": [
        {
          "output_type": "execute_result",
          "data": {
            "text/plain": [
              "50"
            ]
          },
          "metadata": {
            "tags": []
          },
          "execution_count": 74
        }
      ]
    },
    {
      "cell_type": "code",
      "metadata": {
        "id": "wTGEtz3PKThM"
      },
      "source": [
        "bins = [0, 10, 20, 30, 40, 50, 60]\n",
        "df['number_weeks_quit_binned'] = pd.cut(df['number_weeks_quit'], bins)"
      ],
      "execution_count": 75,
      "outputs": []
    },
    {
      "cell_type": "code",
      "metadata": {
        "id": "4UaYumulKThO"
      },
      "source": [
        "a=df[df['crop_damage']==0]['number_weeks_quit_binned'].value_counts(normalize=True)\n",
        "b=df[df['crop_damage']==1]['number_weeks_quit_binned'].value_counts(normalize=True)\n",
        "c=df[df['crop_damage']==2]['number_weeks_quit_binned'].value_counts(normalize=True)"
      ],
      "execution_count": 76,
      "outputs": []
    },
    {
      "cell_type": "code",
      "metadata": {
        "id": "SrX2o1YZKThQ",
        "outputId": "ead8a3b6-d8c1-444f-9b94-eb26f1ee2652",
        "colab": {
          "base_uri": "https://localhost:8080/",
          "height": 731
        }
      },
      "source": [
        "sns.set(style=\"white\", palette=\"muted\", color_codes=True)\n",
        "\n",
        "f, axes = plt.subplots(3, 1, figsize=(10, 10))\n",
        "sns.barplot(a.index,a,  color=\"b\", ax=axes[0]).set_title('Crop Damage : 0')\n",
        "sns.barplot(b.index,b,  color=\"b\", ax=axes[1]).set_title('Crop Damage : 1')\n",
        "sns.barplot(c.index,c,  color=\"b\", ax=axes[2]).set_title('Crop Damage : 2');"
      ],
      "execution_count": 77,
      "outputs": [
        {
          "output_type": "stream",
          "text": [
            "/usr/local/lib/python3.6/dist-packages/seaborn/_decorators.py:43: FutureWarning: Pass the following variables as keyword args: x, y. From version 0.12, the only valid positional argument will be `data`, and passing other arguments without an explicit keyword will result in an error or misinterpretation.\n",
            "  FutureWarning\n",
            "/usr/local/lib/python3.6/dist-packages/seaborn/_decorators.py:43: FutureWarning: Pass the following variables as keyword args: x, y. From version 0.12, the only valid positional argument will be `data`, and passing other arguments without an explicit keyword will result in an error or misinterpretation.\n",
            "  FutureWarning\n",
            "/usr/local/lib/python3.6/dist-packages/seaborn/_decorators.py:43: FutureWarning: Pass the following variables as keyword args: x, y. From version 0.12, the only valid positional argument will be `data`, and passing other arguments without an explicit keyword will result in an error or misinterpretation.\n",
            "  FutureWarning\n"
          ],
          "name": "stderr"
        },
        {
          "output_type": "display_data",
          "data": {
            "image/png": "[encoded data removed]",
            "text/plain": [
              "<Figure size 720x720 with 3 Axes>"
            ]
          },
          "metadata": {
            "tags": []
          }
        }
      ]
    },
    {
      "cell_type": "markdown",
      "metadata": {
        "id": "X638GEQuKThT"
      },
      "source": [
        "# Season"
      ]
    },
    {
      "cell_type": "code",
      "metadata": {
        "id": "K42lpWjmKThT"
      },
      "source": [
        "a=df[df['crop_damage']==0]['season'].value_counts(normalize=True)\n",
        "b=df[df['crop_damage']==1]['season'].value_counts(normalize=True)\n",
        "c=df[df['crop_damage']==2]['season'].value_counts(normalize=True)"
      ],
      "execution_count": 78,
      "outputs": []
    },
    {
      "cell_type": "code",
      "metadata": {
        "id": "llPlRM-7KThV",
        "outputId": "8e5e23dd-b064-4f4f-e47b-dfb256e273f6",
        "colab": {
          "base_uri": "https://localhost:8080/",
          "height": 731
        }
      },
      "source": [
        "sns.set(style=\"white\", palette=\"muted\", color_codes=True)\n",
        "\n",
        "f, axes = plt.subplots(3, 1, figsize=(10, 10))\n",
        "sns.barplot(a.index,a,  color=\"b\", ax=axes[0]).set_title('Crop Damage : 0')\n",
        "sns.barplot(b.index,b,  color=\"b\", ax=axes[1]).set_title('Crop Damage : 1')\n",
        "sns.barplot(c.index,c,  color=\"b\", ax=axes[2]).set_title('Crop Damage : 2');"
      ],
      "execution_count": 79,
      "outputs": [
        {
          "output_type": "stream",
          "text": [
            "/usr/local/lib/python3.6/dist-packages/seaborn/_decorators.py:43: FutureWarning: Pass the following variables as keyword args: x, y. From version 0.12, the only valid positional argument will be `data`, and passing other arguments without an explicit keyword will result in an error or misinterpretation.\n",
            "  FutureWarning\n",
            "/usr/local/lib/python3.6/dist-packages/seaborn/_decorators.py:43: FutureWarning: Pass the following variables as keyword args: x, y. From version 0.12, the only valid positional argument will be `data`, and passing other arguments without an explicit keyword will result in an error or misinterpretation.\n",
            "  FutureWarning\n",
            "/usr/local/lib/python3.6/dist-packages/seaborn/_decorators.py:43: FutureWarning: Pass the following variables as keyword args: x, y. From version 0.12, the only valid positional argument will be `data`, and passing other arguments without an explicit keyword will result in an error or misinterpretation.\n",
            "  FutureWarning\n"
          ],
          "name": "stderr"
        },
        {
          "output_type": "display_data",
          "data": {
            "image/png": "[encoded data removed]",
            "text/plain": [
              "<Figure size 720x720 with 3 Axes>"
            ]
          },
          "metadata": {
            "tags": []
          }
        }
      ]
    },
    {
      "cell_type": "code",
      "metadata": {
        "id": "acocxSYuKThX",
        "outputId": "565b9094-d516-4519-fe79-ae49d7058e44",
        "colab": {
          "base_uri": "https://localhost:8080/",
          "height": 50
        }
      },
      "source": [
        "df[df['number_doses_week']==0]['pesticide_use_category'].value_counts()"
      ],
      "execution_count": 80,
      "outputs": [
        {
          "output_type": "execute_result",
          "data": {
            "text/plain": [
              "1    837\n",
              "Name: pesticide_use_category, dtype: int64"
            ]
          },
          "metadata": {
            "tags": []
          },
          "execution_count": 80
        }
      ]
    },
    {
      "cell_type": "code",
      "metadata": {
        "id": "VShqELonKThZ",
        "outputId": "21814f1e-1ad0-4679-f7a4-50f0ad1b6709",
        "colab": {
          "base_uri": "https://localhost:8080/",
          "height": 370
        }
      },
      "source": [
        "df['number_doses_week'].value_counts()"
      ],
      "execution_count": 81,
      "outputs": [
        {
          "output_type": "execute_result",
          "data": {
            "text/plain": [
              "20    22589\n",
              "40    12298\n",
              "10    12111\n",
              "30    10438\n",
              "15     8178\n",
              "5      5520\n",
              "25     4890\n",
              "60     4367\n",
              "50     3361\n",
              "35     1832\n",
              "45      936\n",
              "0       837\n",
              "80      672\n",
              "70      303\n",
              "55      277\n",
              "90       83\n",
              "65       64\n",
              "75       61\n",
              "95       30\n",
              "85       11\n",
              "Name: number_doses_week, dtype: int64"
            ]
          },
          "metadata": {
            "tags": []
          },
          "execution_count": 81
        }
      ]
    },
    {
      "cell_type": "code",
      "metadata": {
        "id": "_4yv1ntrKThb",
        "outputId": "5b533796-40cd-4f93-9e86-6315f837a745",
        "colab": {
          "base_uri": "https://localhost:8080/",
          "height": 50
        }
      },
      "source": [
        "df[df['number_weeks_used']==0]['pesticide_use_category'].value_counts()"
      ],
      "execution_count": 82,
      "outputs": [
        {
          "output_type": "execute_result",
          "data": {
            "text/plain": [
              "1    740\n",
              "Name: pesticide_use_category, dtype: int64"
            ]
          },
          "metadata": {
            "tags": []
          },
          "execution_count": 82
        }
      ]
    },
    {
      "cell_type": "code",
      "metadata": {
        "id": "54P63e2rKThd"
      },
      "source": [
        "bins = [0, 500, 1000, 1500, 2000, 2500, 3000,3500,4000,4500]\n",
        "df['estimated_insects_count_binned'] = pd.cut(df['estimated_insects_count'], bins)"
      ],
      "execution_count": 83,
      "outputs": []
    },
    {
      "cell_type": "code",
      "metadata": {
        "id": "YdsSLVxJKThe"
      },
      "source": [
        "a=df[df['pesticide_use_category']==1]['crop_type'].value_counts(normalize=True)\n",
        "b=df[df['pesticide_use_category']==2]['crop_type'].value_counts(normalize=True)\n",
        "c=df[df['pesticide_use_category']==3]['crop_type'].value_counts(normalize=True)"
      ],
      "execution_count": 84,
      "outputs": []
    },
    {
      "cell_type": "code",
      "metadata": {
        "id": "-vkJfTdHKThg",
        "outputId": "9f5fc019-7c83-4872-db10-74313a9cef85",
        "colab": {
          "base_uri": "https://localhost:8080/",
          "height": 731
        }
      },
      "source": [
        "sns.set(style=\"white\", palette=\"muted\", color_codes=True)\n",
        "\n",
        "f, axes = plt.subplots(3, 1, figsize=(10, 10))\n",
        "sns.barplot(a.index,a,  color=\"b\", ax=axes[0]).set_title('Pesticide_Use_Category : 1')\n",
        "sns.barplot(b.index,b,  color=\"b\", ax=axes[1]).set_title('Pesticide_Use_Category : 2')\n",
        "sns.barplot(c.index,c,  color=\"b\", ax=axes[2]).set_title('Pesticide_Use_Category : 3');"
      ],
      "execution_count": 85,
      "outputs": [
        {
          "output_type": "stream",
          "text": [
            "/usr/local/lib/python3.6/dist-packages/seaborn/_decorators.py:43: FutureWarning: Pass the following variables as keyword args: x, y. From version 0.12, the only valid positional argument will be `data`, and passing other arguments without an explicit keyword will result in an error or misinterpretation.\n",
            "  FutureWarning\n",
            "/usr/local/lib/python3.6/dist-packages/seaborn/_decorators.py:43: FutureWarning: Pass the following variables as keyword args: x, y. From version 0.12, the only valid positional argument will be `data`, and passing other arguments without an explicit keyword will result in an error or misinterpretation.\n",
            "  FutureWarning\n",
            "/usr/local/lib/python3.6/dist-packages/seaborn/_decorators.py:43: FutureWarning: Pass the following variables as keyword args: x, y. From version 0.12, the only valid positional argument will be `data`, and passing other arguments without an explicit keyword will result in an error or misinterpretation.\n",
            "  FutureWarning\n"
          ],
          "name": "stderr"
        },
        {
          "output_type": "display_data",
          "data": {
            "image/png": "[encoded data removed]",
            "text/plain": [
              "<Figure size 720x720 with 3 Axes>"
            ]
          },
          "metadata": {
            "tags": []
          }
        }
      ]
    },
    {
      "cell_type": "markdown",
      "metadata": {
        "id": "nx4DU35jKThh"
      },
      "source": [
        "### Looks like crop type 1 doesn't use much of pesticides as compare to crop type 0"
      ]
    },
    {
      "cell_type": "code",
      "metadata": {
        "id": "P9xYF3qxKThi"
      },
      "source": [
        "a=df[df['crop_type']==0]['estimated_insects_count_binned'].value_counts(normalize=True)\n",
        "b=df[df['crop_type']==1]['estimated_insects_count_binned'].value_counts(normalize=True)"
      ],
      "execution_count": 86,
      "outputs": []
    },
    {
      "cell_type": "code",
      "metadata": {
        "id": "ocB4uh_hKThk",
        "outputId": "7a4e7f8a-7c44-4820-9f56-2321645d5d77",
        "colab": {
          "base_uri": "https://localhost:8080/",
          "height": 698
        }
      },
      "source": [
        "sns.set(style=\"white\", palette=\"muted\", color_codes=True)\n",
        "\n",
        "f, axes = plt.subplots(2, 1, figsize=(10, 10))\n",
        "sns.barplot(a.index,a,  color=\"b\", ax=axes[0]).set_title('Crop_Type : 0')\n",
        "sns.barplot(b.index,b,  color=\"b\", ax=axes[1]).set_title('Crop_Type : 1');"
      ],
      "execution_count": 87,
      "outputs": [
        {
          "output_type": "stream",
          "text": [
            "/usr/local/lib/python3.6/dist-packages/seaborn/_decorators.py:43: FutureWarning: Pass the following variables as keyword args: x, y. From version 0.12, the only valid positional argument will be `data`, and passing other arguments without an explicit keyword will result in an error or misinterpretation.\n",
            "  FutureWarning\n",
            "/usr/local/lib/python3.6/dist-packages/seaborn/_decorators.py:43: FutureWarning: Pass the following variables as keyword args: x, y. From version 0.12, the only valid positional argument will be `data`, and passing other arguments without an explicit keyword will result in an error or misinterpretation.\n",
            "  FutureWarning\n"
          ],
          "name": "stderr"
        },
        {
          "output_type": "display_data",
          "data": {
            "image/png": "[encoded data removed]",
            "text/plain": [
              "<Figure size 720x720 with 2 Axes>"
            ]
          },
          "metadata": {
            "tags": []
          }
        }
      ]
    },
    {
      "cell_type": "markdown",
      "metadata": {
        "id": "W3I-LyDBKThl"
      },
      "source": [
        "### Seems like both type of crops have equal amount of insects"
      ]
    },
    {
      "cell_type": "code",
      "metadata": {
        "id": "oC4MirybKThl"
      },
      "source": [
        "a=df[df['pesticide_use_category']==1]['soil_type'].value_counts(normalize=True)\n",
        "b=df[df['pesticide_use_category']==2]['soil_type'].value_counts(normalize=True)\n",
        "c=df[df['pesticide_use_category']==3]['soil_type'].value_counts(normalize=True)"
      ],
      "execution_count": 88,
      "outputs": []
    },
    {
      "cell_type": "code",
      "metadata": {
        "id": "NkPVIHbeKThp",
        "outputId": "e4fc5ec1-2b04-4ac6-db37-830c4a68b8f9",
        "colab": {
          "base_uri": "https://localhost:8080/",
          "height": 731
        }
      },
      "source": [
        "sns.set(style=\"white\", palette=\"muted\", color_codes=True)\n",
        "\n",
        "f, axes = plt.subplots(3, 1, figsize=(10, 10))\n",
        "sns.barplot(a.index,a,  color=\"b\", ax=axes[0]).set_title('Pesticide_Use_Category : 0')\n",
        "sns.barplot(b.index,b,  color=\"b\", ax=axes[1]).set_title('Pesticide_Use_Category : 1')\n",
        "sns.barplot(c.index,c,  color=\"b\", ax=axes[2]).set_title('Pesticide_Use_Category : 2');"
      ],
      "execution_count": 89,
      "outputs": [
        {
          "output_type": "stream",
          "text": [
            "/usr/local/lib/python3.6/dist-packages/seaborn/_decorators.py:43: FutureWarning: Pass the following variables as keyword args: x, y. From version 0.12, the only valid positional argument will be `data`, and passing other arguments without an explicit keyword will result in an error or misinterpretation.\n",
            "  FutureWarning\n",
            "/usr/local/lib/python3.6/dist-packages/seaborn/_decorators.py:43: FutureWarning: Pass the following variables as keyword args: x, y. From version 0.12, the only valid positional argument will be `data`, and passing other arguments without an explicit keyword will result in an error or misinterpretation.\n",
            "  FutureWarning\n",
            "/usr/local/lib/python3.6/dist-packages/seaborn/_decorators.py:43: FutureWarning: Pass the following variables as keyword args: x, y. From version 0.12, the only valid positional argument will be `data`, and passing other arguments without an explicit keyword will result in an error or misinterpretation.\n",
            "  FutureWarning\n"
          ],
          "name": "stderr"
        },
        {
          "output_type": "display_data",
          "data": {
            "image/png": "[encoded data removed]",
            "text/plain": [
              "<Figure size 720x720 with 3 Axes>"
            ]
          },
          "metadata": {
            "tags": []
          }
        }
      ]
    },
    {
      "cell_type": "markdown",
      "metadata": {
        "id": "HLiJqAt4KThq"
      },
      "source": [
        "### Looks like for soil type 1 pesticides used previously are used as compare to never and current pesticides"
      ]
    },
    {
      "cell_type": "markdown",
      "metadata": {
        "id": "FtpUcPDyKThr"
      },
      "source": [
        "# Feature Engineering"
      ]
    },
    {
      "cell_type": "code",
      "metadata": {
        "id": "0QZu08Z8KThr"
      },
      "source": [
        "df=pd.read_sql('''SELECT * FROM public.crop_damage_prediction;''',cnx)"
      ],
      "execution_count": 90,
      "outputs": []
    },
    {
      "cell_type": "code",
      "metadata": {
        "id": "RAvLdosHKThv",
        "outputId": "a8114a46-8af0-4f4b-8bbc-fb166b9f1f8b",
        "colab": {
          "base_uri": "https://localhost:8080/",
          "height": 195
        }
      },
      "source": [
        "df.head()"
      ],
      "execution_count": 91,
      "outputs": [
        {
          "output_type": "execute_result",
          "data": {
            "text/html": [
              "<div>\n",
              "<style scoped>\n",
              "    .dataframe tbody tr th:only-of-type {\n",
              "        vertical-align: middle;\n",
              "    }\n",
              "\n",
              "    .dataframe tbody tr th {\n",
              "        vertical-align: top;\n",
              "    }\n",
              "\n",
              "    .dataframe thead th {\n",
              "        text-align: right;\n",
              "    }\n",
              "</style>\n",
              "<table border=\"1\" class=\"dataframe\">\n",
              "  <thead>\n",
              "    <tr style=\"text-align: right;\">\n",
              "      <th></th>\n",
              "      <th>id</th>\n",
              "      <th>estimated_insects_count</th>\n",
              "      <th>crop_type</th>\n",
              "      <th>soil_type</th>\n",
              "      <th>pesticide_use_category</th>\n",
              "      <th>number_doses_week</th>\n",
              "      <th>number_weeks_used</th>\n",
              "      <th>number_weeks_quit</th>\n",
              "      <th>season</th>\n",
              "      <th>crop_damage</th>\n",
              "    </tr>\n",
              "  </thead>\n",
              "  <tbody>\n",
              "    <tr>\n",
              "      <th>0</th>\n",
              "      <td>F00000001</td>\n",
              "      <td>188</td>\n",
              "      <td>1</td>\n",
              "      <td>0</td>\n",
              "      <td>1</td>\n",
              "      <td>0</td>\n",
              "      <td>0.0</td>\n",
              "      <td>0</td>\n",
              "      <td>1</td>\n",
              "      <td>0</td>\n",
              "    </tr>\n",
              "    <tr>\n",
              "      <th>1</th>\n",
              "      <td>F00000003</td>\n",
              "      <td>209</td>\n",
              "      <td>1</td>\n",
              "      <td>0</td>\n",
              "      <td>1</td>\n",
              "      <td>0</td>\n",
              "      <td>0.0</td>\n",
              "      <td>0</td>\n",
              "      <td>2</td>\n",
              "      <td>1</td>\n",
              "    </tr>\n",
              "    <tr>\n",
              "      <th>2</th>\n",
              "      <td>F00000004</td>\n",
              "      <td>257</td>\n",
              "      <td>1</td>\n",
              "      <td>0</td>\n",
              "      <td>1</td>\n",
              "      <td>0</td>\n",
              "      <td>0.0</td>\n",
              "      <td>0</td>\n",
              "      <td>2</td>\n",
              "      <td>1</td>\n",
              "    </tr>\n",
              "    <tr>\n",
              "      <th>3</th>\n",
              "      <td>F00000005</td>\n",
              "      <td>257</td>\n",
              "      <td>1</td>\n",
              "      <td>1</td>\n",
              "      <td>1</td>\n",
              "      <td>0</td>\n",
              "      <td>0.0</td>\n",
              "      <td>0</td>\n",
              "      <td>2</td>\n",
              "      <td>1</td>\n",
              "    </tr>\n",
              "    <tr>\n",
              "      <th>4</th>\n",
              "      <td>F00000006</td>\n",
              "      <td>342</td>\n",
              "      <td>1</td>\n",
              "      <td>0</td>\n",
              "      <td>1</td>\n",
              "      <td>0</td>\n",
              "      <td>0.0</td>\n",
              "      <td>0</td>\n",
              "      <td>2</td>\n",
              "      <td>1</td>\n",
              "    </tr>\n",
              "  </tbody>\n",
              "</table>\n",
              "</div>"
            ],
            "text/plain": [
              "          id  estimated_insects_count  ...  season  crop_damage\n",
              "0  F00000001                      188  ...       1            0\n",
              "1  F00000003                      209  ...       2            1\n",
              "2  F00000004                      257  ...       2            1\n",
              "3  F00000005                      257  ...       2            1\n",
              "4  F00000006                      342  ...       2            1\n",
              "\n",
              "[5 rows x 10 columns]"
            ]
          },
          "metadata": {
            "tags": []
          },
          "execution_count": 91
        }
      ]
    },
    {
      "cell_type": "code",
      "metadata": {
        "id": "K5nxxJG4KThw"
      },
      "source": [
        "df['Avg_Dose_Insect'] = df['estimated_insects_count']/df['number_doses_week']"
      ],
      "execution_count": 92,
      "outputs": []
    },
    {
      "cell_type": "code",
      "metadata": {
        "id": "7RsqYuz6KThz",
        "outputId": "ec5225c1-31de-4f90-819b-c01e9c7a395d",
        "colab": {
          "base_uri": "https://localhost:8080/",
          "height": 218
        }
      },
      "source": [
        "df.isnull().sum()"
      ],
      "execution_count": 93,
      "outputs": [
        {
          "output_type": "execute_result",
          "data": {
            "text/plain": [
              "id                            0\n",
              "estimated_insects_count       0\n",
              "crop_type                     0\n",
              "soil_type                     0\n",
              "pesticide_use_category        0\n",
              "number_doses_week             0\n",
              "number_weeks_used          9000\n",
              "number_weeks_quit             0\n",
              "season                        0\n",
              "crop_damage                   0\n",
              "Avg_Dose_Insect               0\n",
              "dtype: int64"
            ]
          },
          "metadata": {
            "tags": []
          },
          "execution_count": 93
        }
      ]
    },
    {
      "cell_type": "code",
      "metadata": {
        "id": "DH9acdf5KTh0",
        "outputId": "7b79afca-ffc7-4d6b-b171-898c1278b560",
        "colab": {
          "base_uri": "https://localhost:8080/",
          "height": 50
        }
      },
      "source": [
        "print(\"Mean of Number_Weeks_Used before replacement is:\",df['number_weeks_used'].mean())\n",
        "print(\"Median of Number_Weeks_Used before replacement is:\",df['number_weeks_used'].median())"
      ],
      "execution_count": 94,
      "outputs": [
        {
          "output_type": "stream",
          "text": [
            "Mean of Number_Weeks_Used before replacement is: 28.62397004683313\n",
            "Median of Number_Weeks_Used before replacement is: 28.0\n"
          ],
          "name": "stdout"
        }
      ]
    },
    {
      "cell_type": "code",
      "metadata": {
        "id": "CEcR-jNjKTh1",
        "outputId": "5f37081c-3dfa-4b80-c853-9c889a9ec6e2",
        "colab": {
          "base_uri": "https://localhost:8080/",
          "height": 34
        }
      },
      "source": [
        "df['number_weeks_used'].fillna((df['number_weeks_used'].mean()), inplace=True)\n",
        "df.isnull().sum().sum()"
      ],
      "execution_count": 95,
      "outputs": [
        {
          "output_type": "execute_result",
          "data": {
            "text/plain": [
              "0"
            ]
          },
          "metadata": {
            "tags": []
          },
          "execution_count": 95
        }
      ]
    },
    {
      "cell_type": "code",
      "metadata": {
        "id": "14F_Xl3RKTh3",
        "outputId": "1d607ee6-c3c5-46cf-8af3-78637d6a85f5",
        "colab": {
          "base_uri": "https://localhost:8080/",
          "height": 50
        }
      },
      "source": [
        "print(\"Mean of Number_Weeks_Used after replacement is:\",df['number_weeks_used'].mean())\n",
        "print(\"Median of Number_Weeks_Used after replacement is:\",df['number_weeks_used'].median())"
      ],
      "execution_count": 96,
      "outputs": [
        {
          "output_type": "stream",
          "text": [
            "Mean of Number_Weeks_Used after replacement is: 28.623970046831996\n",
            "Median of Number_Weeks_Used after replacement is: 28.62397004683313\n"
          ],
          "name": "stdout"
        }
      ]
    },
    {
      "cell_type": "code",
      "metadata": {
        "id": "EqZrSzvUKTh5",
        "outputId": "0590af89-6daa-414f-8c49-3880da308987",
        "colab": {
          "base_uri": "https://localhost:8080/",
          "height": 195
        }
      },
      "source": [
        "df.head()"
      ],
      "execution_count": 97,
      "outputs": [
        {
          "output_type": "execute_result",
          "data": {
            "text/html": [
              "<div>\n",
              "<style scoped>\n",
              "    .dataframe tbody tr th:only-of-type {\n",
              "        vertical-align: middle;\n",
              "    }\n",
              "\n",
              "    .dataframe tbody tr th {\n",
              "        vertical-align: top;\n",
              "    }\n",
              "\n",
              "    .dataframe thead th {\n",
              "        text-align: right;\n",
              "    }\n",
              "</style>\n",
              "<table border=\"1\" class=\"dataframe\">\n",
              "  <thead>\n",
              "    <tr style=\"text-align: right;\">\n",
              "      <th></th>\n",
              "      <th>id</th>\n",
              "      <th>estimated_insects_count</th>\n",
              "      <th>crop_type</th>\n",
              "      <th>soil_type</th>\n",
              "      <th>pesticide_use_category</th>\n",
              "      <th>number_doses_week</th>\n",
              "      <th>number_weeks_used</th>\n",
              "      <th>number_weeks_quit</th>\n",
              "      <th>season</th>\n",
              "      <th>crop_damage</th>\n",
              "      <th>Avg_Dose_Insect</th>\n",
              "    </tr>\n",
              "  </thead>\n",
              "  <tbody>\n",
              "    <tr>\n",
              "      <th>0</th>\n",
              "      <td>F00000001</td>\n",
              "      <td>188</td>\n",
              "      <td>1</td>\n",
              "      <td>0</td>\n",
              "      <td>1</td>\n",
              "      <td>0</td>\n",
              "      <td>0.0</td>\n",
              "      <td>0</td>\n",
              "      <td>1</td>\n",
              "      <td>0</td>\n",
              "      <td>inf</td>\n",
              "    </tr>\n",
              "    <tr>\n",
              "      <th>1</th>\n",
              "      <td>F00000003</td>\n",
              "      <td>209</td>\n",
              "      <td>1</td>\n",
              "      <td>0</td>\n",
              "      <td>1</td>\n",
              "      <td>0</td>\n",
              "      <td>0.0</td>\n",
              "      <td>0</td>\n",
              "      <td>2</td>\n",
              "      <td>1</td>\n",
              "      <td>inf</td>\n",
              "    </tr>\n",
              "    <tr>\n",
              "      <th>2</th>\n",
              "      <td>F00000004</td>\n",
              "      <td>257</td>\n",
              "      <td>1</td>\n",
              "      <td>0</td>\n",
              "      <td>1</td>\n",
              "      <td>0</td>\n",
              "      <td>0.0</td>\n",
              "      <td>0</td>\n",
              "      <td>2</td>\n",
              "      <td>1</td>\n",
              "      <td>inf</td>\n",
              "    </tr>\n",
              "    <tr>\n",
              "      <th>3</th>\n",
              "      <td>F00000005</td>\n",
              "      <td>257</td>\n",
              "      <td>1</td>\n",
              "      <td>1</td>\n",
              "      <td>1</td>\n",
              "      <td>0</td>\n",
              "      <td>0.0</td>\n",
              "      <td>0</td>\n",
              "      <td>2</td>\n",
              "      <td>1</td>\n",
              "      <td>inf</td>\n",
              "    </tr>\n",
              "    <tr>\n",
              "      <th>4</th>\n",
              "      <td>F00000006</td>\n",
              "      <td>342</td>\n",
              "      <td>1</td>\n",
              "      <td>0</td>\n",
              "      <td>1</td>\n",
              "      <td>0</td>\n",
              "      <td>0.0</td>\n",
              "      <td>0</td>\n",
              "      <td>2</td>\n",
              "      <td>1</td>\n",
              "      <td>inf</td>\n",
              "    </tr>\n",
              "  </tbody>\n",
              "</table>\n",
              "</div>"
            ],
            "text/plain": [
              "          id  estimated_insects_count  ...  crop_damage  Avg_Dose_Insect\n",
              "0  F00000001                      188  ...            0              inf\n",
              "1  F00000003                      209  ...            1              inf\n",
              "2  F00000004                      257  ...            1              inf\n",
              "3  F00000005                      257  ...            1              inf\n",
              "4  F00000006                      342  ...            1              inf\n",
              "\n",
              "[5 rows x 11 columns]"
            ]
          },
          "metadata": {
            "tags": []
          },
          "execution_count": 97
        }
      ]
    },
    {
      "cell_type": "code",
      "metadata": {
        "id": "76ZMO-fZKTh6"
      },
      "source": [
        "df['TotalDoses'] = df['number_doses_week'] * df['number_weeks_used']"
      ],
      "execution_count": 98,
      "outputs": []
    },
    {
      "cell_type": "code",
      "metadata": {
        "id": "qfp_49hJKTh7",
        "outputId": "9fcbd6a3-cb86-4501-e86e-3ab8110a081b",
        "colab": {
          "base_uri": "https://localhost:8080/",
          "height": 84
        }
      },
      "source": [
        "df.pesticide_use_category.value_counts()"
      ],
      "execution_count": 99,
      "outputs": [
        {
          "output_type": "execute_result",
          "data": {
            "text/plain": [
              "2    63709\n",
              "3    24312\n",
              "1      837\n",
              "Name: pesticide_use_category, dtype: int64"
            ]
          },
          "metadata": {
            "tags": []
          },
          "execution_count": 99
        }
      ]
    },
    {
      "cell_type": "code",
      "metadata": {
        "id": "osI_wuJcKTh9",
        "outputId": "3b90c3ff-eb00-4e82-afc1-f7c0f13a9b4f",
        "colab": {
          "base_uri": "https://localhost:8080/",
          "height": 215
        }
      },
      "source": [
        "df.head()"
      ],
      "execution_count": 100,
      "outputs": [
        {
          "output_type": "execute_result",
          "data": {
            "text/html": [
              "<div>\n",
              "<style scoped>\n",
              "    .dataframe tbody tr th:only-of-type {\n",
              "        vertical-align: middle;\n",
              "    }\n",
              "\n",
              "    .dataframe tbody tr th {\n",
              "        vertical-align: top;\n",
              "    }\n",
              "\n",
              "    .dataframe thead th {\n",
              "        text-align: right;\n",
              "    }\n",
              "</style>\n",
              "<table border=\"1\" class=\"dataframe\">\n",
              "  <thead>\n",
              "    <tr style=\"text-align: right;\">\n",
              "      <th></th>\n",
              "      <th>id</th>\n",
              "      <th>estimated_insects_count</th>\n",
              "      <th>crop_type</th>\n",
              "      <th>soil_type</th>\n",
              "      <th>pesticide_use_category</th>\n",
              "      <th>number_doses_week</th>\n",
              "      <th>number_weeks_used</th>\n",
              "      <th>number_weeks_quit</th>\n",
              "      <th>season</th>\n",
              "      <th>crop_damage</th>\n",
              "      <th>Avg_Dose_Insect</th>\n",
              "      <th>TotalDoses</th>\n",
              "    </tr>\n",
              "  </thead>\n",
              "  <tbody>\n",
              "    <tr>\n",
              "      <th>0</th>\n",
              "      <td>F00000001</td>\n",
              "      <td>188</td>\n",
              "      <td>1</td>\n",
              "      <td>0</td>\n",
              "      <td>1</td>\n",
              "      <td>0</td>\n",
              "      <td>0.0</td>\n",
              "      <td>0</td>\n",
              "      <td>1</td>\n",
              "      <td>0</td>\n",
              "      <td>inf</td>\n",
              "      <td>0.0</td>\n",
              "    </tr>\n",
              "    <tr>\n",
              "      <th>1</th>\n",
              "      <td>F00000003</td>\n",
              "      <td>209</td>\n",
              "      <td>1</td>\n",
              "      <td>0</td>\n",
              "      <td>1</td>\n",
              "      <td>0</td>\n",
              "      <td>0.0</td>\n",
              "      <td>0</td>\n",
              "      <td>2</td>\n",
              "      <td>1</td>\n",
              "      <td>inf</td>\n",
              "      <td>0.0</td>\n",
              "    </tr>\n",
              "    <tr>\n",
              "      <th>2</th>\n",
              "      <td>F00000004</td>\n",
              "      <td>257</td>\n",
              "      <td>1</td>\n",
              "      <td>0</td>\n",
              "      <td>1</td>\n",
              "      <td>0</td>\n",
              "      <td>0.0</td>\n",
              "      <td>0</td>\n",
              "      <td>2</td>\n",
              "      <td>1</td>\n",
              "      <td>inf</td>\n",
              "      <td>0.0</td>\n",
              "    </tr>\n",
              "    <tr>\n",
              "      <th>3</th>\n",
              "      <td>F00000005</td>\n",
              "      <td>257</td>\n",
              "      <td>1</td>\n",
              "      <td>1</td>\n",
              "      <td>1</td>\n",
              "      <td>0</td>\n",
              "      <td>0.0</td>\n",
              "      <td>0</td>\n",
              "      <td>2</td>\n",
              "      <td>1</td>\n",
              "      <td>inf</td>\n",
              "      <td>0.0</td>\n",
              "    </tr>\n",
              "    <tr>\n",
              "      <th>4</th>\n",
              "      <td>F00000006</td>\n",
              "      <td>342</td>\n",
              "      <td>1</td>\n",
              "      <td>0</td>\n",
              "      <td>1</td>\n",
              "      <td>0</td>\n",
              "      <td>0.0</td>\n",
              "      <td>0</td>\n",
              "      <td>2</td>\n",
              "      <td>1</td>\n",
              "      <td>inf</td>\n",
              "      <td>0.0</td>\n",
              "    </tr>\n",
              "  </tbody>\n",
              "</table>\n",
              "</div>"
            ],
            "text/plain": [
              "          id  estimated_insects_count  ...  Avg_Dose_Insect  TotalDoses\n",
              "0  F00000001                      188  ...              inf         0.0\n",
              "1  F00000003                      209  ...              inf         0.0\n",
              "2  F00000004                      257  ...              inf         0.0\n",
              "3  F00000005                      257  ...              inf         0.0\n",
              "4  F00000006                      342  ...              inf         0.0\n",
              "\n",
              "[5 rows x 12 columns]"
            ]
          },
          "metadata": {
            "tags": []
          },
          "execution_count": 100
        }
      ]
    },
    {
      "cell_type": "code",
      "metadata": {
        "id": "xeVRutX2KTh-",
        "outputId": "249fd143-b625-4345-bc5d-ed3ee98455ad",
        "colab": {
          "base_uri": "https://localhost:8080/",
          "height": 235
        }
      },
      "source": [
        "df.isnull().sum()"
      ],
      "execution_count": 101,
      "outputs": [
        {
          "output_type": "execute_result",
          "data": {
            "text/plain": [
              "id                         0\n",
              "estimated_insects_count    0\n",
              "crop_type                  0\n",
              "soil_type                  0\n",
              "pesticide_use_category     0\n",
              "number_doses_week          0\n",
              "number_weeks_used          0\n",
              "number_weeks_quit          0\n",
              "season                     0\n",
              "crop_damage                0\n",
              "Avg_Dose_Insect            0\n",
              "TotalDoses                 0\n",
              "dtype: int64"
            ]
          },
          "metadata": {
            "tags": []
          },
          "execution_count": 101
        }
      ]
    },
    {
      "cell_type": "code",
      "metadata": {
        "id": "Hbahqk8pKTiA",
        "outputId": "d389ccdc-9189-4917-a30d-da0944d54f23",
        "colab": {
          "base_uri": "https://localhost:8080/",
          "height": 218
        }
      },
      "source": [
        "df['Avg_Dose_Insect'].value_counts()"
      ],
      "execution_count": 102,
      "outputs": [
        {
          "output_type": "execute_result",
          "data": {
            "text/plain": [
              "73.900000    856\n",
              "60.600000    845\n",
              "inf          837\n",
              "69.250000    825\n",
              "83.900000    814\n",
              "            ... \n",
              "12.153846      1\n",
              "3.212500       1\n",
              "17.293333      1\n",
              "2.844444       1\n",
              "2.900000       1\n",
              "Name: Avg_Dose_Insect, Length: 1029, dtype: int64"
            ]
          },
          "metadata": {
            "tags": []
          },
          "execution_count": 102
        }
      ]
    },
    {
      "cell_type": "code",
      "metadata": {
        "id": "Wcrui8aOKTiB"
      },
      "source": [
        "df['Avg_Dose_Insect'].replace(to_replace =np.inf,  \n",
        "                            value =0,inplace=True)"
      ],
      "execution_count": 103,
      "outputs": []
    },
    {
      "cell_type": "code",
      "metadata": {
        "id": "1hi0INvEKTiC"
      },
      "source": [
        "df.drop(['id'],axis=1,inplace=True)"
      ],
      "execution_count": 104,
      "outputs": []
    },
    {
      "cell_type": "markdown",
      "metadata": {
        "id": "ZRXjL0AuKTiD"
      },
      "source": [
        "# Machine Learning Modelling"
      ]
    },
    {
      "cell_type": "code",
      "metadata": {
        "id": "DGXFayUOKTiE",
        "outputId": "fd7a8d8b-cdf4-4cd9-eaab-1e797d6ebcbb",
        "colab": {
          "base_uri": "https://localhost:8080/",
          "height": 54
        }
      },
      "source": [
        "import numpy as np\n",
        "import pandas as pd\n",
        "import matplotlib.pyplot as plt\n",
        "%matplotlib inline\n",
        "plt.style.use('seaborn-whitegrid')\n",
        "\n",
        "import seaborn as sns\n",
        "from sklearn.model_selection import train_test_split, StratifiedKFold\n",
        "from sklearn.metrics import accuracy_score, f1_score\n",
        "\n",
        "from sklearn.tree import DecisionTreeClassifier\n",
        "from sklearn.ensemble import RandomForestClassifier\n",
        "\n",
        "from sklearn.linear_model import LogisticRegression\n",
        "\n",
        "from lightgbm import LGBMClassifier\n",
        "from catboost import CatBoostClassifier\n",
        "from xgboost import XGBClassifier\n",
        "\n",
        "from IPython.core.interactiveshell import InteractiveShell\n",
        "InteractiveShell.ast_node_interactivity = \"all\"\n",
        "\n",
        "pd.set_option('display.max_colwidth', -1)\n",
        "\n",
        "import warnings\n",
        "warnings.simplefilter('ignore')"
      ],
      "execution_count": 107,
      "outputs": [
        {
          "output_type": "stream",
          "text": [
            "/usr/local/lib/python3.6/dist-packages/ipykernel_launcher.py:23: FutureWarning: Passing a negative integer is deprecated in version 1.0 and will not be supported in future version. Instead, use None to not limit the column width.\n"
          ],
          "name": "stderr"
        }
      ]
    },
    {
      "cell_type": "code",
      "metadata": {
        "id": "4CKkyUXUKTiG"
      },
      "source": [
        "X=df.loc[:,df.columns != 'crop_damage']\n",
        "Y=df.crop_damage"
      ],
      "execution_count": 108,
      "outputs": []
    },
    {
      "cell_type": "code",
      "metadata": {
        "id": "bscA_hNyKTiH"
      },
      "source": [
        "skf=StratifiedKFold(n_splits=5,random_state=None)\n",
        "#skf.get_n_splits(t,val)\n",
        "for train_index,test_index in skf.split(X,Y):\n",
        "    X_train,X_test=X.iloc[train_index],X.iloc[test_index]\n",
        "    y_train,y_test=Y.iloc[train_index],Y.iloc[test_index]"
      ],
      "execution_count": 109,
      "outputs": []
    },
    {
      "cell_type": "code",
      "metadata": {
        "id": "__A5A3qrKTiI"
      },
      "source": [
        "from imblearn.over_sampling import SMOTE\n",
        "smote = SMOTE()"
      ],
      "execution_count": 110,
      "outputs": []
    },
    {
      "cell_type": "code",
      "metadata": {
        "id": "g2zNsEw8KTiK"
      },
      "source": [
        "from sklearn.model_selection import train_test_split\n",
        "X_train_smote, y_train_smote = smote.fit_sample(X_train.astype('float'),y_train)"
      ],
      "execution_count": 111,
      "outputs": []
    },
    {
      "cell_type": "markdown",
      "metadata": {
        "id": "K8uyXludKTiL"
      },
      "source": [
        "### Logistic Regression"
      ]
    },
    {
      "cell_type": "code",
      "metadata": {
        "id": "_Gg05bFlKTiL",
        "outputId": "a58712e6-d1e0-4d4d-9fac-cc35957b4d60",
        "colab": {
          "base_uri": "https://localhost:8080/",
          "height": 216
        }
      },
      "source": [
        "from sklearn.metrics import accuracy_score, f1_score, precision_score, recall_score, classification_report, confusion_matrix\n",
        "\n",
        "clf = LogisticRegression()\n",
        "_ = clf.fit(X_train_smote, y_train_smote)\n",
        "\n",
        "preds_val1 = clf.predict(X_test)\n",
        "\n",
        "accuracy_score(y_test,preds_val1)\n",
        "pd.crosstab(y_test,preds_val1)\n",
        "print(precision_score(y_test, preds_val1, average=\"macro\"))\n",
        "print(recall_score(y_test, preds_val1, average=\"macro\"))"
      ],
      "execution_count": 112,
      "outputs": [
        {
          "output_type": "execute_result",
          "data": {
            "text/plain": [
              "0.6066625400934106"
            ]
          },
          "metadata": {
            "tags": []
          },
          "execution_count": 112
        },
        {
          "output_type": "execute_result",
          "data": {
            "text/html": [
              "<div>\n",
              "<style scoped>\n",
              "    .dataframe tbody tr th:only-of-type {\n",
              "        vertical-align: middle;\n",
              "    }\n",
              "\n",
              "    .dataframe tbody tr th {\n",
              "        vertical-align: top;\n",
              "    }\n",
              "\n",
              "    .dataframe thead th {\n",
              "        text-align: right;\n",
              "    }\n",
              "</style>\n",
              "<table border=\"1\" class=\"dataframe\">\n",
              "  <thead>\n",
              "    <tr style=\"text-align: right;\">\n",
              "      <th>col_0</th>\n",
              "      <th>0</th>\n",
              "      <th>1</th>\n",
              "      <th>2</th>\n",
              "    </tr>\n",
              "    <tr>\n",
              "      <th>crop_damage</th>\n",
              "      <th></th>\n",
              "      <th></th>\n",
              "      <th></th>\n",
              "    </tr>\n",
              "  </thead>\n",
              "  <tbody>\n",
              "    <tr>\n",
              "      <th>0</th>\n",
              "      <td>9843</td>\n",
              "      <td>2220</td>\n",
              "      <td>2784</td>\n",
              "    </tr>\n",
              "    <tr>\n",
              "      <th>1</th>\n",
              "      <td>715</td>\n",
              "      <td>635</td>\n",
              "      <td>1112</td>\n",
              "    </tr>\n",
              "    <tr>\n",
              "      <th>2</th>\n",
              "      <td>99</td>\n",
              "      <td>60</td>\n",
              "      <td>303</td>\n",
              "    </tr>\n",
              "  </tbody>\n",
              "</table>\n",
              "</div>"
            ],
            "text/plain": [
              "col_0           0     1     2\n",
              "crop_damage                  \n",
              "0            9843  2220  2784\n",
              "1            715   635   1112\n",
              "2            99    60    303 "
            ]
          },
          "metadata": {
            "tags": []
          },
          "execution_count": 112
        },
        {
          "output_type": "stream",
          "text": [
            "0.4045390273927633\n",
            "0.5255755867866169\n"
          ],
          "name": "stdout"
        }
      ]
    },
    {
      "cell_type": "markdown",
      "metadata": {
        "id": "xMCnToXzKTiM"
      },
      "source": [
        "### Decision Tree"
      ]
    },
    {
      "cell_type": "code",
      "metadata": {
        "id": "Xhajc0p2KTiM",
        "outputId": "21461f8e-a297-45a2-f57b-699518fa8cf7",
        "colab": {
          "base_uri": "https://localhost:8080/",
          "height": 216
        }
      },
      "source": [
        "clf = DecisionTreeClassifier(random_state = 1)\n",
        "_ = clf.fit(X_train_smote, y_train_smote)\n",
        "\n",
        "preds_val1 = clf.predict(X_test)\n",
        "\n",
        "accuracy_score(y_test,preds_val1)\n",
        "pd.crosstab(y_test,preds_val1)\n",
        "print(precision_score(y_test, preds_val1, average=\"macro\"))\n",
        "print(recall_score(y_test, preds_val1, average=\"macro\"))"
      ],
      "execution_count": 113,
      "outputs": [
        {
          "output_type": "execute_result",
          "data": {
            "text/plain": [
              "0.7481852456248945"
            ]
          },
          "metadata": {
            "tags": []
          },
          "execution_count": 113
        },
        {
          "output_type": "execute_result",
          "data": {
            "text/html": [
              "<div>\n",
              "<style scoped>\n",
              "    .dataframe tbody tr th:only-of-type {\n",
              "        vertical-align: middle;\n",
              "    }\n",
              "\n",
              "    .dataframe tbody tr th {\n",
              "        vertical-align: top;\n",
              "    }\n",
              "\n",
              "    .dataframe thead th {\n",
              "        text-align: right;\n",
              "    }\n",
              "</style>\n",
              "<table border=\"1\" class=\"dataframe\">\n",
              "  <thead>\n",
              "    <tr style=\"text-align: right;\">\n",
              "      <th>col_0</th>\n",
              "      <th>0</th>\n",
              "      <th>1</th>\n",
              "      <th>2</th>\n",
              "    </tr>\n",
              "    <tr>\n",
              "      <th>crop_damage</th>\n",
              "      <th></th>\n",
              "      <th></th>\n",
              "      <th></th>\n",
              "    </tr>\n",
              "  </thead>\n",
              "  <tbody>\n",
              "    <tr>\n",
              "      <th>0</th>\n",
              "      <td>12563</td>\n",
              "      <td>1908</td>\n",
              "      <td>376</td>\n",
              "    </tr>\n",
              "    <tr>\n",
              "      <th>1</th>\n",
              "      <td>1601</td>\n",
              "      <td>694</td>\n",
              "      <td>167</td>\n",
              "    </tr>\n",
              "    <tr>\n",
              "      <th>2</th>\n",
              "      <td>266</td>\n",
              "      <td>157</td>\n",
              "      <td>39</td>\n",
              "    </tr>\n",
              "  </tbody>\n",
              "</table>\n",
              "</div>"
            ],
            "text/plain": [
              "col_0            0     1    2\n",
              "crop_damage                  \n",
              "0            12563  1908  376\n",
              "1            1601   694   167\n",
              "2            266    157   39 "
            ]
          },
          "metadata": {
            "tags": []
          },
          "execution_count": 113
        },
        {
          "output_type": "stream",
          "text": [
            "0.396389164362769\n",
            "0.404154813100634\n"
          ],
          "name": "stdout"
        }
      ]
    },
    {
      "cell_type": "markdown",
      "metadata": {
        "id": "pLxmhpbjKTiO"
      },
      "source": [
        "### Random Forest"
      ]
    },
    {
      "cell_type": "code",
      "metadata": {
        "id": "RMTQpZm8KTiO",
        "outputId": "bd3dc48e-9790-410b-84d4-5aebbde076c7",
        "colab": {
          "base_uri": "https://localhost:8080/",
          "height": 216
        }
      },
      "source": [
        "clf = RandomForestClassifier()\n",
        "_ = clf.fit(X_train_smote, y_train_smote)\n",
        "\n",
        "preds_val1 = clf.predict(X_test)\n",
        "\n",
        "accuracy_score(y_test,preds_val1)\n",
        "pd.crosstab(y_test,preds_val1)\n",
        "print(precision_score(y_test, preds_val1, average=\"macro\"))\n",
        "print(recall_score(y_test, preds_val1, average=\"macro\"))"
      ],
      "execution_count": 114,
      "outputs": [
        {
          "output_type": "execute_result",
          "data": {
            "text/plain": [
              "0.8101401159191942"
            ]
          },
          "metadata": {
            "tags": []
          },
          "execution_count": 114
        },
        {
          "output_type": "execute_result",
          "data": {
            "text/html": [
              "<div>\n",
              "<style scoped>\n",
              "    .dataframe tbody tr th:only-of-type {\n",
              "        vertical-align: middle;\n",
              "    }\n",
              "\n",
              "    .dataframe tbody tr th {\n",
              "        vertical-align: top;\n",
              "    }\n",
              "\n",
              "    .dataframe thead th {\n",
              "        text-align: right;\n",
              "    }\n",
              "</style>\n",
              "<table border=\"1\" class=\"dataframe\">\n",
              "  <thead>\n",
              "    <tr style=\"text-align: right;\">\n",
              "      <th>col_0</th>\n",
              "      <th>0</th>\n",
              "      <th>1</th>\n",
              "      <th>2</th>\n",
              "    </tr>\n",
              "    <tr>\n",
              "      <th>crop_damage</th>\n",
              "      <th></th>\n",
              "      <th></th>\n",
              "      <th></th>\n",
              "    </tr>\n",
              "  </thead>\n",
              "  <tbody>\n",
              "    <tr>\n",
              "      <th>0</th>\n",
              "      <td>13785</td>\n",
              "      <td>914</td>\n",
              "      <td>148</td>\n",
              "    </tr>\n",
              "    <tr>\n",
              "      <th>1</th>\n",
              "      <td>1771</td>\n",
              "      <td>580</td>\n",
              "      <td>111</td>\n",
              "    </tr>\n",
              "    <tr>\n",
              "      <th>2</th>\n",
              "      <td>289</td>\n",
              "      <td>141</td>\n",
              "      <td>32</td>\n",
              "    </tr>\n",
              "  </tbody>\n",
              "</table>\n",
              "</div>"
            ],
            "text/plain": [
              "col_0            0    1    2\n",
              "crop_damage                 \n",
              "0            13785  914  148\n",
              "1            1771   580  111\n",
              "2            289    141  32 "
            ]
          },
          "metadata": {
            "tags": []
          },
          "execution_count": 114
        },
        {
          "output_type": "stream",
          "text": [
            "0.4448987433973901\n",
            "0.4111050986396407\n"
          ],
          "name": "stdout"
        }
      ]
    },
    {
      "cell_type": "markdown",
      "metadata": {
        "id": "QNeyYk4PKTiP"
      },
      "source": [
        "### LGBMClassifier"
      ]
    },
    {
      "cell_type": "code",
      "metadata": {
        "id": "NCTCqfMyKTiP",
        "outputId": "4279a902-5b94-4767-db9f-709237769fe2",
        "colab": {
          "base_uri": "https://localhost:8080/",
          "height": 216
        }
      },
      "source": [
        "clf_lgbm = LGBMClassifier(n_estimators = 1000,\n",
        "                    learning_rate = 0.05,\n",
        "                    colsample_bytree = 0.76,\n",
        "                    )\n",
        "_ = clf_lgbm.fit(X_train_smote, y_train_smote)\n",
        "\n",
        "preds_val1 = clf_lgbm.predict(X_test)\n",
        "\n",
        "accuracy_score(y_test,preds_val1)\n",
        "pd.crosstab(y_test,preds_val1)\n",
        "print(precision_score(y_test, preds_val1, average=\"macro\"))\n",
        "print(recall_score(y_test, preds_val1, average=\"macro\"))"
      ],
      "execution_count": 115,
      "outputs": [
        {
          "output_type": "execute_result",
          "data": {
            "text/plain": [
              "0.8381632997580327"
            ]
          },
          "metadata": {
            "tags": []
          },
          "execution_count": 115
        },
        {
          "output_type": "execute_result",
          "data": {
            "text/html": [
              "<div>\n",
              "<style scoped>\n",
              "    .dataframe tbody tr th:only-of-type {\n",
              "        vertical-align: middle;\n",
              "    }\n",
              "\n",
              "    .dataframe tbody tr th {\n",
              "        vertical-align: top;\n",
              "    }\n",
              "\n",
              "    .dataframe thead th {\n",
              "        text-align: right;\n",
              "    }\n",
              "</style>\n",
              "<table border=\"1\" class=\"dataframe\">\n",
              "  <thead>\n",
              "    <tr style=\"text-align: right;\">\n",
              "      <th>col_0</th>\n",
              "      <th>0</th>\n",
              "      <th>1</th>\n",
              "      <th>2</th>\n",
              "    </tr>\n",
              "    <tr>\n",
              "      <th>crop_damage</th>\n",
              "      <th></th>\n",
              "      <th></th>\n",
              "      <th></th>\n",
              "    </tr>\n",
              "  </thead>\n",
              "  <tbody>\n",
              "    <tr>\n",
              "      <th>0</th>\n",
              "      <td>14389</td>\n",
              "      <td>411</td>\n",
              "      <td>47</td>\n",
              "    </tr>\n",
              "    <tr>\n",
              "      <th>1</th>\n",
              "      <td>1876</td>\n",
              "      <td>478</td>\n",
              "      <td>108</td>\n",
              "    </tr>\n",
              "    <tr>\n",
              "      <th>2</th>\n",
              "      <td>288</td>\n",
              "      <td>146</td>\n",
              "      <td>28</td>\n",
              "    </tr>\n",
              "  </tbody>\n",
              "</table>\n",
              "</div>"
            ],
            "text/plain": [
              "col_0            0    1    2\n",
              "crop_damage                 \n",
              "0            14389  411  47 \n",
              "1            1876   478  108\n",
              "2            288    146  28 "
            ]
          },
          "metadata": {
            "tags": []
          },
          "execution_count": 115
        },
        {
          "output_type": "stream",
          "text": [
            "0.49470320794438805\n",
            "0.40796972483932525\n"
          ],
          "name": "stdout"
        }
      ]
    },
    {
      "cell_type": "markdown",
      "metadata": {
        "id": "2LWlf588KTiQ"
      },
      "source": [
        "### CatBoostClassifier"
      ]
    },
    {
      "cell_type": "code",
      "metadata": {
        "id": "9d3nizBOKTiR"
      },
      "source": [
        "clf = CatBoostClassifier(n_estimators = 3000,\n",
        "                       learning_rate = 0.01,\n",
        "                       rsm = 0.4, ## Analogous to colsample_bytree\n",
        "                       random_state=2054,\n",
        "                       )\n",
        "_ = clf.fit(X_train_smote, y_train_smote)\n",
        "\n",
        "preds_val1 = clf.predict(X_test)\n",
        "\n",
        "accuracy_score(y_test,preds_val1)\n",
        "print(precision_score(y_test, preds_val1, average=\"macro\"))\n",
        "print(recall_score(y_test, preds_val1, average=\"macro\"))"
      ],
      "execution_count": null,
      "outputs": []
    },
    {
      "cell_type": "markdown",
      "metadata": {
        "id": "8yjM44tnKTiS"
      },
      "source": [
        "# LGBMClassifier gave the best accuracy rate of 83.82%"
      ]
    },
    {
      "cell_type": "code",
      "metadata": {
        "id": "d2B6iApXKTiS"
      },
      "source": [
        "import pickle\n",
        "Pkl_Filename = \"Pickle_LGBM_Model.pkl\"  \n",
        "\n",
        "with open(Pkl_Filename, 'wb') as file:  \n",
        "    pickle.dump(clf_lgbm, file)"
      ],
      "execution_count": 117,
      "outputs": []
    },
    {
      "cell_type": "code",
      "metadata": {
        "id": "ceOoqOCnUIxb"
      },
      "source": [
        ""
      ],
      "execution_count": null,
      "outputs": []
    }
  ]
}